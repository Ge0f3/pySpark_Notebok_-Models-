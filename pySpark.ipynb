{
  "nbformat": 4,
  "nbformat_minor": 0,
  "metadata": {
    "colab": {
      "provenance": [],
      "collapsed_sections": [
        "l1o5dW6aZPOe",
        "O3tvAzD5bv-5",
        "VqJf0jMPcBSv",
        "ySpagqsCMyQf"
      ]
    },
    "kernelspec": {
      "name": "python3",
      "display_name": "Python 3"
    },
    "language_info": {
      "name": "python"
    }
  },
  "cells": [
    {
      "cell_type": "code",
      "execution_count": null,
      "metadata": {
        "id": "KSVX008y4uzZ"
      },
      "outputs": [],
      "source": [
        "# !apt-get update\n",
        "# !apt-get install openjdk-8-jdk-headless -qq > /dev/null\n",
        "# !wget -q http://archive.apache.org/dist/spark/spark-2.3.1/spark-2.3.1-bin-hadoop2.7.tgz\n",
        "# !tar xf spark-2.3.1-bin-hadoop2.7.tgz\n",
        "# !pip install -q findspark\n",
        "\n",
        "# import os\n",
        "# os.environ[\"JAVA_HOME\"] = \"/usr/lib/jvm/java-8-openjdk-amd64\"\n",
        "# os.environ[\"SPARK_HOME\"] = \"/content/spark-2.3.1-bin-hadoop2.7\"\n",
        "\n",
        "# !ls\n",
        "\n",
        "# import findspark\n",
        "# findspark.init()\n",
        "\n"
      ]
    },
    {
      "cell_type": "code",
      "source": [
        "! pip install --upgrade pyspark\n",
        "! pip install scikit-learn --upgrade"
      ],
      "metadata": {
        "colab": {
          "base_uri": "https://localhost:8080/"
        },
        "id": "eehaRghd4yZ0",
        "outputId": "07807f10-9a0c-42da-b353-26ec73a2f20a"
      },
      "execution_count": null,
      "outputs": [
        {
          "output_type": "stream",
          "name": "stdout",
          "text": [
            "Looking in indexes: https://pypi.org/simple, https://us-python.pkg.dev/colab-wheels/public/simple/\n",
            "Requirement already satisfied: pyspark in /usr/local/lib/python3.9/dist-packages (3.3.2)\n",
            "Requirement already satisfied: py4j==0.10.9.5 in /usr/local/lib/python3.9/dist-packages (from pyspark) (0.10.9.5)\n",
            "Looking in indexes: https://pypi.org/simple, https://us-python.pkg.dev/colab-wheels/public/simple/\n",
            "Requirement already satisfied: scikit-learn in /usr/local/lib/python3.9/dist-packages (1.2.2)\n",
            "Requirement already satisfied: numpy>=1.17.3 in /usr/local/lib/python3.9/dist-packages (from scikit-learn) (1.22.4)\n",
            "Requirement already satisfied: threadpoolctl>=2.0.0 in /usr/local/lib/python3.9/dist-packages (from scikit-learn) (3.1.0)\n",
            "Requirement already satisfied: scipy>=1.3.2 in /usr/local/lib/python3.9/dist-packages (from scikit-learn) (1.10.1)\n",
            "Requirement already satisfied: joblib>=1.1.1 in /usr/local/lib/python3.9/dist-packages (from scikit-learn) (1.1.1)\n"
          ]
        }
      ]
    },
    {
      "cell_type": "code",
      "source": [
        "import pyspark\n",
        "import pyspark.sql.functions as sqlfunc\n",
        "\n",
        "from pyspark.sql import SparkSession\n",
        "spark = SparkSession.builder.getOrCreate() \n",
        "spark"
      ],
      "metadata": {
        "colab": {
          "base_uri": "https://localhost:8080/",
          "height": 219
        },
        "id": "kTZgX4eH6EZy",
        "outputId": "f82916b5-491a-4cdc-ccb9-8cd322c15de5"
      },
      "execution_count": null,
      "outputs": [
        {
          "output_type": "execute_result",
          "data": {
            "text/plain": [
              "<pyspark.sql.session.SparkSession at 0x7f51275a9dc0>"
            ],
            "text/html": [
              "\n",
              "            <div>\n",
              "                <p><b>SparkSession - in-memory</b></p>\n",
              "                \n",
              "        <div>\n",
              "            <p><b>SparkContext</b></p>\n",
              "\n",
              "            <p><a href=\"http://20a4c0d64439:4040\">Spark UI</a></p>\n",
              "\n",
              "            <dl>\n",
              "              <dt>Version</dt>\n",
              "                <dd><code>v3.3.2</code></dd>\n",
              "              <dt>Master</dt>\n",
              "                <dd><code>local[*]</code></dd>\n",
              "              <dt>AppName</dt>\n",
              "                <dd><code>pyspark-shell</code></dd>\n",
              "            </dl>\n",
              "        </div>\n",
              "        \n",
              "            </div>\n",
              "        "
            ]
          },
          "metadata": {},
          "execution_count": 91
        }
      ]
    },
    {
      "cell_type": "markdown",
      "source": [
        "# PySpark Core Concepts"
      ],
      "metadata": {
        "id": "Wp0GVvPkkEpd"
      }
    },
    {
      "cell_type": "code",
      "source": [
        "! wget https://mldataset0123.s3.amazonaws.com/original.csv"
      ],
      "metadata": {
        "colab": {
          "base_uri": "https://localhost:8080/"
        },
        "id": "4PEs_fGoUDAc",
        "outputId": "d22dddac-d7cc-418e-9f7a-38fd457e7685"
      },
      "execution_count": null,
      "outputs": [
        {
          "output_type": "stream",
          "name": "stdout",
          "text": [
            "--2023-03-17 20:44:05--  https://mldataset0123.s3.amazonaws.com/original.csv\n",
            "Resolving mldataset0123.s3.amazonaws.com (mldataset0123.s3.amazonaws.com)... 3.5.1.17, 52.216.115.43, 52.216.230.43, ...\n",
            "Connecting to mldataset0123.s3.amazonaws.com (mldataset0123.s3.amazonaws.com)|3.5.1.17|:443... connected.\n",
            "HTTP request sent, awaiting response... 200 OK\n",
            "Length: 86874 (85K) [text/csv]\n",
            "Saving to: ‘original.csv.1’\n",
            "\n",
            "original.csv.1      100%[===================>]  84.84K   493KB/s    in 0.2s    \n",
            "\n",
            "2023-03-17 20:44:05 (493 KB/s) - ‘original.csv.1’ saved [86874/86874]\n",
            "\n"
          ]
        }
      ]
    },
    {
      "cell_type": "markdown",
      "source": [
        "## DataFrames\n"
      ],
      "metadata": {
        "id": "kOTV2OstZIrR"
      }
    },
    {
      "cell_type": "code",
      "source": [
        "# Reading the CSV file \n",
        "\n",
        "mydata = spark.read.format('csv').option('header','true').load('original.csv')\n",
        "\n",
        "df = spark.read.csv('original.csv',header=True)"
      ],
      "metadata": {
        "id": "XNYWEBx982eW"
      },
      "execution_count": null,
      "outputs": []
    },
    {
      "cell_type": "code",
      "source": [
        "df.show()"
      ],
      "metadata": {
        "colab": {
          "base_uri": "https://localhost:8080/"
        },
        "id": "WmtjPiBqPjVw",
        "outputId": "631e200e-9fef-4e78-f330-12a35d3a9c30"
      },
      "execution_count": null,
      "outputs": [
        {
          "output_type": "stream",
          "name": "stdout",
          "text": [
            "+---+----------+----------+------+---------------+--------------------+---------+----------+-----------+\n",
            "| id|first_name| last_name|gender|           City|            JobTitle|   Salary|  Latitude|  Longitude|\n",
            "+---+----------+----------+------+---------------+--------------------+---------+----------+-----------+\n",
            "|  1|   Melinde| Shilburne|Female|      Nowa Ruda| Assistant Professor|$57438.18|50.5774075| 16.4967184|\n",
            "|  2|  Kimberly|Von Welden|Female|         Bulgan|       Programmer II|$62846.60|48.8231572|103.5218199|\n",
            "|  3|    Alvera|  Di Boldi|Female|           null|                null|$57576.52|39.9947462|116.3397725|\n",
            "|  4|   Shannon| O'Griffin|  Male|  Divnomorskoye|Budget/Accounting...|$61489.23|44.5047212| 38.1300171|\n",
            "|  5|  Sherwood|   Macieja|  Male|      Mytishchi|            VP Sales|$63863.09|      null| 37.6489954|\n",
            "|  6|     Maris|      Folk|Female|Kinsealy-Drinan|      Civil Engineer|$30101.16|53.4266145| -6.1644997|\n",
            "|  7|     Masha|    Divers|Female|         Dachun|                null|$25090.87| 24.879416| 118.930111|\n",
            "|  8|   Goddart|     Flear|  Male|      Trélissac|Desktop Support T...|$46116.36|45.1905186|  0.7423124|\n",
            "|  9|      Roth|O'Cannavan|  Male|         Heitan|VP Product Manage...|$73697.10| 32.027934| 106.657113|\n",
            "| 10|      Bran|   Trahear|  Male|       Arbeláez|Mechanical System...|$68098.42|  4.272793| -74.416014|\n",
            "| 11|    Kylynn|   Lockart|Female|       El Cardo|Nuclear Power Eng...|$13604.63|     -5.85|-79.8833329|\n",
            "| 12|       Rey|    Meharg|Female|    Wangqingtuo|Systems Administr...|$73423.70| 39.172378| 116.931607|\n",
            "| 13|      Kerr|    Braden|  Male|      Sułkowice|Compensation Analyst|$33432.99|49.8151822| 19.3771749|\n",
            "| 14|    Mickie| Whanstall|  Male|    Springfield|Assistant Media P...|$50838.53|42.1014803|-72.5766759|\n",
            "| 15|    Kaspar|     Pally|  Male|         Chrást|  Analyst Programmer|$40163.03|49.7923299| 13.4915324|\n",
            "| 16|    Norbie|    Gwyllt|  Male|         Xijiao|              Editor|$32492.73|43.4945737|  5.8978018|\n",
            "| 17|    Claude|    Briant|Female|      Mieścisko|Research Assistan...|$51862.48|52.7441662| 17.3278637|\n",
            "| 18|     Thain|    Habbon|  Male| Foros do Trapo|     Design Engineer|$42135.67| 38.696249| -8.7098337|\n",
            "| 19|  Tiffanie|  Pattison|Female|    Jabungsisir|Senior Financial ...|$91925.08|-7.7232567|113.4686802|\n",
            "| 20|    Ettore|  Gerriets|  Male|          Pedra| Staff Accountant IV|$73921.33|40.7172049| -8.3625148|\n",
            "+---+----------+----------+------+---------------+--------------------+---------+----------+-----------+\n",
            "only showing top 20 rows\n",
            "\n"
          ]
        }
      ]
    },
    {
      "cell_type": "code",
      "source": [
        "# Defining a schema\n",
        "from pyspark.sql.types import *\n",
        "\n",
        "myschema = StructType([\n",
        "    StructField('id',IntegerType()),\n",
        "    StructField('first_name',StringType()),\n",
        "    StructField('last_named',StringType()),\n",
        "    StructField('gender',StringType()),\n",
        "    StructField('City',StringType()),\n",
        "    StructField('JobTitle',StringType()),\n",
        "    StructField('Salary',StringType()),\n",
        "    StructField('Latitude',StringType()),\n",
        "    StructField('Longitude',IntegerType())\n",
        "])\n",
        "\n",
        "\n",
        "df3 = spark.read.csv('original.csv',header=True,schema=myschema)\n",
        "\n",
        "df3.show()"
      ],
      "metadata": {
        "colab": {
          "base_uri": "https://localhost:8080/"
        },
        "id": "VVtC9eqAVH1g",
        "outputId": "7d843e39-4d5d-46c0-d98b-d954ca92eec5"
      },
      "execution_count": null,
      "outputs": [
        {
          "output_type": "stream",
          "name": "stdout",
          "text": [
            "+---+----------+----------+------+---------------+--------------------+---------+----------+---------+\n",
            "| id|first_name|last_named|gender|           City|            JobTitle|   Salary|  Latitude|Longitude|\n",
            "+---+----------+----------+------+---------------+--------------------+---------+----------+---------+\n",
            "|  1|   Melinde| Shilburne|Female|      Nowa Ruda| Assistant Professor|$57438.18|50.5774075|     null|\n",
            "|  2|  Kimberly|Von Welden|Female|         Bulgan|       Programmer II|$62846.60|48.8231572|     null|\n",
            "|  3|    Alvera|  Di Boldi|Female|           null|                null|$57576.52|39.9947462|     null|\n",
            "|  4|   Shannon| O'Griffin|  Male|  Divnomorskoye|Budget/Accounting...|$61489.23|44.5047212|     null|\n",
            "|  5|  Sherwood|   Macieja|  Male|      Mytishchi|            VP Sales|$63863.09|      null|     null|\n",
            "|  6|     Maris|      Folk|Female|Kinsealy-Drinan|      Civil Engineer|$30101.16|53.4266145|     null|\n",
            "|  7|     Masha|    Divers|Female|         Dachun|                null|$25090.87| 24.879416|     null|\n",
            "|  8|   Goddart|     Flear|  Male|      Trélissac|Desktop Support T...|$46116.36|45.1905186|     null|\n",
            "|  9|      Roth|O'Cannavan|  Male|         Heitan|VP Product Manage...|$73697.10| 32.027934|     null|\n",
            "| 10|      Bran|   Trahear|  Male|       Arbeláez|Mechanical System...|$68098.42|  4.272793|     null|\n",
            "| 11|    Kylynn|   Lockart|Female|       El Cardo|Nuclear Power Eng...|$13604.63|     -5.85|     null|\n",
            "| 12|       Rey|    Meharg|Female|    Wangqingtuo|Systems Administr...|$73423.70| 39.172378|     null|\n",
            "| 13|      Kerr|    Braden|  Male|      Sułkowice|Compensation Analyst|$33432.99|49.8151822|     null|\n",
            "| 14|    Mickie| Whanstall|  Male|    Springfield|Assistant Media P...|$50838.53|42.1014803|     null|\n",
            "| 15|    Kaspar|     Pally|  Male|         Chrást|  Analyst Programmer|$40163.03|49.7923299|     null|\n",
            "| 16|    Norbie|    Gwyllt|  Male|         Xijiao|              Editor|$32492.73|43.4945737|     null|\n",
            "| 17|    Claude|    Briant|Female|      Mieścisko|Research Assistan...|$51862.48|52.7441662|     null|\n",
            "| 18|     Thain|    Habbon|  Male| Foros do Trapo|     Design Engineer|$42135.67| 38.696249|     null|\n",
            "| 19|  Tiffanie|  Pattison|Female|    Jabungsisir|Senior Financial ...|$91925.08|-7.7232567|     null|\n",
            "| 20|    Ettore|  Gerriets|  Male|          Pedra| Staff Accountant IV|$73921.33|40.7172049|     null|\n",
            "+---+----------+----------+------+---------------+--------------------+---------+----------+---------+\n",
            "only showing top 20 rows\n",
            "\n"
          ]
        }
      ]
    },
    {
      "cell_type": "code",
      "source": [
        "df.dtypes"
      ],
      "metadata": {
        "colab": {
          "base_uri": "https://localhost:8080/"
        },
        "id": "3xv43HRkTxSd",
        "outputId": "656d4f4c-4034-4d33-ec18-4c2191dcbdf8"
      },
      "execution_count": null,
      "outputs": [
        {
          "output_type": "execute_result",
          "data": {
            "text/plain": [
              "[('id', 'string'),\n",
              " ('first_name', 'string'),\n",
              " ('last_name', 'string'),\n",
              " ('gender', 'string'),\n",
              " ('City', 'string'),\n",
              " ('JobTitle', 'string'),\n",
              " ('Salary', 'string'),\n",
              " ('Latitude', 'string'),\n",
              " ('Longitude', 'string')]"
            ]
          },
          "metadata": {},
          "execution_count": 18
        }
      ]
    },
    {
      "cell_type": "code",
      "source": [
        "df.head(10)"
      ],
      "metadata": {
        "colab": {
          "base_uri": "https://localhost:8080/"
        },
        "id": "nZCWl15sYOXw",
        "outputId": "dd0f0571-cb38-4dab-b719-be1141ef69c2"
      },
      "execution_count": null,
      "outputs": [
        {
          "output_type": "execute_result",
          "data": {
            "text/plain": [
              "[Row(id='1', first_name='Melinde', last_name='Shilburne', gender='Female', City='Nowa Ruda', JobTitle='Assistant Professor', Salary='$57438.18', Latitude='50.5774075', Longitude='16.4967184'),\n",
              " Row(id='2', first_name='Kimberly', last_name='Von Welden', gender='Female', City='Bulgan', JobTitle='Programmer II', Salary='$62846.60', Latitude='48.8231572', Longitude='103.5218199'),\n",
              " Row(id='3', first_name='Alvera', last_name='Di Boldi', gender='Female', City=None, JobTitle=None, Salary='$57576.52', Latitude='39.9947462', Longitude='116.3397725'),\n",
              " Row(id='4', first_name='Shannon', last_name=\"O'Griffin\", gender='Male', City='Divnomorskoye', JobTitle='Budget/Accounting Analyst II', Salary='$61489.23', Latitude='44.5047212', Longitude='38.1300171'),\n",
              " Row(id='5', first_name='Sherwood', last_name='Macieja', gender='Male', City='Mytishchi', JobTitle='VP Sales', Salary='$63863.09', Latitude=None, Longitude='37.6489954'),\n",
              " Row(id='6', first_name='Maris', last_name='Folk', gender='Female', City='Kinsealy-Drinan', JobTitle='Civil Engineer', Salary='$30101.16', Latitude='53.4266145', Longitude='-6.1644997'),\n",
              " Row(id='7', first_name='Masha', last_name='Divers', gender='Female', City='Dachun', JobTitle=None, Salary='$25090.87', Latitude='24.879416', Longitude='118.930111'),\n",
              " Row(id='8', first_name='Goddart', last_name='Flear', gender='Male', City='Trélissac', JobTitle='Desktop Support Technician', Salary='$46116.36', Latitude='45.1905186', Longitude='0.7423124'),\n",
              " Row(id='9', first_name='Roth', last_name=\"O'Cannavan\", gender='Male', City='Heitan', JobTitle='VP Product Management', Salary='$73697.10', Latitude='32.027934', Longitude='106.657113'),\n",
              " Row(id='10', first_name='Bran', last_name='Trahear', gender='Male', City='Arbeláez', JobTitle='Mechanical Systems Engineer', Salary='$68098.42', Latitude='4.272793', Longitude='-74.416014')]"
            ]
          },
          "metadata": {},
          "execution_count": 19
        }
      ]
    },
    {
      "cell_type": "code",
      "source": [
        "df.first()"
      ],
      "metadata": {
        "colab": {
          "base_uri": "https://localhost:8080/"
        },
        "id": "sYxaDn9UYS8S",
        "outputId": "5cfaa2ac-6861-4ab0-c9a3-639aa2b42941"
      },
      "execution_count": null,
      "outputs": [
        {
          "output_type": "execute_result",
          "data": {
            "text/plain": [
              "Row(id='1', first_name='Melinde', last_name='Shilburne', gender='Female', City='Nowa Ruda', JobTitle='Assistant Professor', Salary='$57438.18', Latitude='50.5774075', Longitude='16.4967184')"
            ]
          },
          "metadata": {},
          "execution_count": 20
        }
      ]
    },
    {
      "cell_type": "code",
      "source": [
        "df.describe().show()"
      ],
      "metadata": {
        "colab": {
          "base_uri": "https://localhost:8080/"
        },
        "id": "jRW_Y0eMYVFt",
        "outputId": "04a105e8-ead7-4759-ff79-72993d7b2d7e"
      },
      "execution_count": null,
      "outputs": [
        {
          "output_type": "stream",
          "name": "stdout",
          "text": [
            "+-------+-----------------+----------+---------+------+-------------------+-------------------+---------+-----------------+------------------+\n",
            "|summary|               id|first_name|last_name|gender|               City|           JobTitle|   Salary|         Latitude|         Longitude|\n",
            "+-------+-----------------+----------+---------+------+-------------------+-------------------+---------+-----------------+------------------+\n",
            "|  count|             1000|      1000|     1000|  1000|                999|                998|     1000|              999|              1000|\n",
            "|   mean|            500.5|      null|     null|  null|               null|               null|     null|25.43151724234234|43.337564614499996|\n",
            "| stddev|288.8194360957494|      null|     null|  null|               null|               null|     null| 24.5790825486909| 69.42064539970089|\n",
            "|    min|                1|   Abagail|    Abbay|Female|             Abéché|Account Coordinator|$10101.92|       -0.6256517|        -0.4889547|\n",
            "|    max|              999|    Zulema| de Marco|  Male|‘Aşīrah al Qiblīyah|   Web Developer IV|$99948.28|        9.9533828|        99.9590822|\n",
            "+-------+-----------------+----------+---------+------+-------------------+-------------------+---------+-----------------+------------------+\n",
            "\n"
          ]
        }
      ]
    },
    {
      "cell_type": "code",
      "source": [
        "df.columns"
      ],
      "metadata": {
        "colab": {
          "base_uri": "https://localhost:8080/"
        },
        "id": "Mg7vlfUMYhpU",
        "outputId": "76a6d62e-5578-4b62-c907-4a36d6cf983c"
      },
      "execution_count": null,
      "outputs": [
        {
          "output_type": "execute_result",
          "data": {
            "text/plain": [
              "['id',\n",
              " 'first_name',\n",
              " 'last_name',\n",
              " 'gender',\n",
              " 'City',\n",
              " 'JobTitle',\n",
              " 'Salary',\n",
              " 'Latitude',\n",
              " 'Longitude']"
            ]
          },
          "metadata": {},
          "execution_count": 22
        }
      ]
    },
    {
      "cell_type": "code",
      "source": [
        "df.count()"
      ],
      "metadata": {
        "colab": {
          "base_uri": "https://localhost:8080/"
        },
        "id": "-DQ3GCltYjWc",
        "outputId": "412d4ef2-3fbc-4bb7-8121-c30cfc04c356"
      },
      "execution_count": null,
      "outputs": [
        {
          "output_type": "execute_result",
          "data": {
            "text/plain": [
              "1000"
            ]
          },
          "metadata": {},
          "execution_count": 23
        }
      ]
    },
    {
      "cell_type": "code",
      "source": [
        "df.distinct().count()"
      ],
      "metadata": {
        "colab": {
          "base_uri": "https://localhost:8080/"
        },
        "id": "s_-n-TI-Yk36",
        "outputId": "06147ed1-5fc1-438a-94bb-09fa50e07f27"
      },
      "execution_count": null,
      "outputs": [
        {
          "output_type": "execute_result",
          "data": {
            "text/plain": [
              "1000"
            ]
          },
          "metadata": {},
          "execution_count": 24
        }
      ]
    },
    {
      "cell_type": "code",
      "source": [
        "df.show(2)"
      ],
      "metadata": {
        "colab": {
          "base_uri": "https://localhost:8080/"
        },
        "id": "5xaFujKbTim6",
        "outputId": "2bd10277-7499-462d-c8a0-ea95b5a479c6"
      },
      "execution_count": null,
      "outputs": [
        {
          "output_type": "stream",
          "name": "stdout",
          "text": [
            "+---+----------+----------+------+---------+-------------------+---------+----------+-----------+\n",
            "| id|first_name| last_name|gender|     City|           JobTitle|   Salary|  Latitude|  Longitude|\n",
            "+---+----------+----------+------+---------+-------------------+---------+----------+-----------+\n",
            "|  1|   Melinde| Shilburne|Female|Nowa Ruda|Assistant Professor|$57438.18|50.5774075| 16.4967184|\n",
            "|  2|  Kimberly|Von Welden|Female|   Bulgan|      Programmer II|$62846.60|48.8231572|103.5218199|\n",
            "+---+----------+----------+------+---------+-------------------+---------+----------+-----------+\n",
            "only showing top 2 rows\n",
            "\n"
          ]
        }
      ]
    },
    {
      "cell_type": "markdown",
      "source": [
        "## Handling Null values"
      ],
      "metadata": {
        "id": "l1o5dW6aZPOe"
      }
    },
    {
      "cell_type": "code",
      "source": [
        "df_dropped = df.na.drop()\n",
        "\n",
        "df_dropped.show(5)"
      ],
      "metadata": {
        "colab": {
          "base_uri": "https://localhost:8080/"
        },
        "id": "MNk8QpvhZNu-",
        "outputId": "54869936-576e-44e5-e2a4-100d7d62be74"
      },
      "execution_count": null,
      "outputs": [
        {
          "output_type": "stream",
          "name": "stdout",
          "text": [
            "+---+----------+----------+------+---------------+--------------------+---------+----------+-----------+\n",
            "| id|first_name| last_name|gender|           City|            JobTitle|   Salary|  Latitude|  Longitude|\n",
            "+---+----------+----------+------+---------------+--------------------+---------+----------+-----------+\n",
            "|  1|   Melinde| Shilburne|Female|      Nowa Ruda| Assistant Professor|$57438.18|50.5774075| 16.4967184|\n",
            "|  2|  Kimberly|Von Welden|Female|         Bulgan|       Programmer II|$62846.60|48.8231572|103.5218199|\n",
            "|  4|   Shannon| O'Griffin|  Male|  Divnomorskoye|Budget/Accounting...|$61489.23|44.5047212| 38.1300171|\n",
            "|  6|     Maris|      Folk|Female|Kinsealy-Drinan|      Civil Engineer|$30101.16|53.4266145| -6.1644997|\n",
            "|  8|   Goddart|     Flear|  Male|      Trélissac|Desktop Support T...|$46116.36|45.1905186|  0.7423124|\n",
            "+---+----------+----------+------+---------------+--------------------+---------+----------+-----------+\n",
            "only showing top 5 rows\n",
            "\n"
          ]
        }
      ]
    },
    {
      "cell_type": "code",
      "source": [
        "#Dropping null values from a specific column\n",
        "\n",
        "from pyspark.sql.functions import * \n",
        "\n",
        "df_handled = df.withColumn('Clean City',when(df.City.isNull(),'unknown').otherwise(df.City))\n",
        "\n",
        "df_handled.show(5)"
      ],
      "metadata": {
        "colab": {
          "base_uri": "https://localhost:8080/"
        },
        "id": "0U17k6_oa3rR",
        "outputId": "0f0d8d51-469f-4cbb-ecf8-f2f031c01d1d"
      },
      "execution_count": null,
      "outputs": [
        {
          "output_type": "stream",
          "name": "stdout",
          "text": [
            "+---+----------+----------+------+-------------+--------------------+---------+----------+-----------+-------------+\n",
            "| id|first_name| last_name|gender|         City|            JobTitle|   Salary|  Latitude|  Longitude|   Clean City|\n",
            "+---+----------+----------+------+-------------+--------------------+---------+----------+-----------+-------------+\n",
            "|  1|   Melinde| Shilburne|Female|    Nowa Ruda| Assistant Professor|$57438.18|50.5774075| 16.4967184|    Nowa Ruda|\n",
            "|  2|  Kimberly|Von Welden|Female|       Bulgan|       Programmer II|$62846.60|48.8231572|103.5218199|       Bulgan|\n",
            "|  3|    Alvera|  Di Boldi|Female|         null|                null|$57576.52|39.9947462|116.3397725|      unknown|\n",
            "|  4|   Shannon| O'Griffin|  Male|Divnomorskoye|Budget/Accounting...|$61489.23|44.5047212| 38.1300171|Divnomorskoye|\n",
            "|  5|  Sherwood|   Macieja|  Male|    Mytishchi|            VP Sales|$63863.09|      null| 37.6489954|    Mytishchi|\n",
            "+---+----------+----------+------+-------------+--------------------+---------+----------+-----------+-------------+\n",
            "only showing top 5 rows\n",
            "\n"
          ]
        }
      ]
    },
    {
      "cell_type": "markdown",
      "source": [
        "### Drop Duplicate Values"
      ],
      "metadata": {
        "id": "O3tvAzD5bv-5"
      }
    },
    {
      "cell_type": "code",
      "source": [
        "df_no_duplicate = df.dropDuplicates()\n",
        "df_no_duplicate.show(5)"
      ],
      "metadata": {
        "colab": {
          "base_uri": "https://localhost:8080/"
        },
        "id": "ZWvnSFP8ZW8G",
        "outputId": "b7c17676-71a7-4544-ae2d-b3f0661b827b"
      },
      "execution_count": null,
      "outputs": [
        {
          "output_type": "stream",
          "name": "stdout",
          "text": [
            "+---+----------+---------+------+-------+-------------------+---------+----------+----------+\n",
            "| id|first_name|last_name|gender|   City|           JobTitle|   Salary|  Latitude| Longitude|\n",
            "+---+----------+---------+------+-------+-------------------+---------+----------+----------+\n",
            "|167|    Buiron|Franzotto|  Male|Prusice|   Health Coach III|$55731.78|51.3704296|16.9606267|\n",
            "|610|    Waylen|O' Clovan|  Male|  Khyzy|  Marketing Manager|$73169.48|40.9109489|49.0729264|\n",
            "|239|  Vivyanne| Astridge|Female|Baoshui|       Food Chemist|$11084.34| 30.513598|110.361715|\n",
            "|256|    Stearn|   Niesel|  Male|Lungmar|Software Consultant|$31406.56|  28.85816|  89.94036|\n",
            "|575|    Richie| Hellicar|  Male|Xichuan|       Developer IV|$40279.59|  33.13782|111.490964|\n",
            "+---+----------+---------+------+-------+-------------------+---------+----------+----------+\n",
            "only showing top 5 rows\n",
            "\n"
          ]
        }
      ]
    },
    {
      "cell_type": "code",
      "source": [
        "df_no_duplicate.count()"
      ],
      "metadata": {
        "colab": {
          "base_uri": "https://localhost:8080/"
        },
        "id": "v-CWB4dzb6ss",
        "outputId": "cbe47188-8724-4ade-f3e2-3f313496781b"
      },
      "execution_count": null,
      "outputs": [
        {
          "output_type": "execute_result",
          "data": {
            "text/plain": [
              "1000"
            ]
          },
          "metadata": {},
          "execution_count": 29
        }
      ]
    },
    {
      "cell_type": "markdown",
      "source": [
        "## Selecting and filtering"
      ],
      "metadata": {
        "id": "VqJf0jMPcBSv"
      }
    },
    {
      "cell_type": "code",
      "source": [
        "df.select('first_name','last_name').show(5)"
      ],
      "metadata": {
        "colab": {
          "base_uri": "https://localhost:8080/"
        },
        "id": "bb4Omi6VcArJ",
        "outputId": "cbc9a41c-d866-4f0c-8a72-66817b180fd3"
      },
      "execution_count": null,
      "outputs": [
        {
          "output_type": "stream",
          "name": "stdout",
          "text": [
            "+----------+----------+\n",
            "|first_name| last_name|\n",
            "+----------+----------+\n",
            "|   Melinde| Shilburne|\n",
            "|  Kimberly|Von Welden|\n",
            "|    Alvera|  Di Boldi|\n",
            "|   Shannon| O'Griffin|\n",
            "|  Sherwood|   Macieja|\n",
            "+----------+----------+\n",
            "only showing top 5 rows\n",
            "\n"
          ]
        }
      ]
    },
    {
      "cell_type": "code",
      "source": [
        "df.withColumnRenamed('first_name','fn').show(5)\n"
      ],
      "metadata": {
        "colab": {
          "base_uri": "https://localhost:8080/"
        },
        "id": "zWhRcbWZgWIp",
        "outputId": "069dab37-e574-4637-89f7-e7dc52282f65"
      },
      "execution_count": null,
      "outputs": [
        {
          "output_type": "stream",
          "name": "stdout",
          "text": [
            "+---+--------+----------+------+-------------+--------------------+---------+----------+-----------+\n",
            "| id|      fn| last_name|gender|         City|            JobTitle|   Salary|  Latitude|  Longitude|\n",
            "+---+--------+----------+------+-------------+--------------------+---------+----------+-----------+\n",
            "|  1| Melinde| Shilburne|Female|    Nowa Ruda| Assistant Professor|$57438.18|50.5774075| 16.4967184|\n",
            "|  2|Kimberly|Von Welden|Female|       Bulgan|       Programmer II|$62846.60|48.8231572|103.5218199|\n",
            "|  3|  Alvera|  Di Boldi|Female|         null|                null|$57576.52|39.9947462|116.3397725|\n",
            "|  4| Shannon| O'Griffin|  Male|Divnomorskoye|Budget/Accounting...|$61489.23|44.5047212| 38.1300171|\n",
            "|  5|Sherwood|   Macieja|  Male|    Mytishchi|            VP Sales|$63863.09|      null| 37.6489954|\n",
            "+---+--------+----------+------+-------------+--------------------+---------+----------+-----------+\n",
            "only showing top 5 rows\n",
            "\n"
          ]
        }
      ]
    },
    {
      "cell_type": "code",
      "source": [
        "df.filter(df.first_name=='Melinde').show()"
      ],
      "metadata": {
        "colab": {
          "base_uri": "https://localhost:8080/"
        },
        "id": "MFKgMXKzgdk4",
        "outputId": "4f3e057d-46f3-41fe-ede4-7387296c922b"
      },
      "execution_count": null,
      "outputs": [
        {
          "output_type": "stream",
          "name": "stdout",
          "text": [
            "+---+----------+---------+------+---------+-------------------+---------+----------+----------+\n",
            "| id|first_name|last_name|gender|     City|           JobTitle|   Salary|  Latitude| Longitude|\n",
            "+---+----------+---------+------+---------+-------------------+---------+----------+----------+\n",
            "|  1|   Melinde|Shilburne|Female|Nowa Ruda|Assistant Professor|$57438.18|50.5774075|16.4967184|\n",
            "+---+----------+---------+------+---------+-------------------+---------+----------+----------+\n",
            "\n"
          ]
        }
      ]
    },
    {
      "cell_type": "code",
      "source": [
        "df.filter(df.first_name.like('%linde')).show()"
      ],
      "metadata": {
        "colab": {
          "base_uri": "https://localhost:8080/"
        },
        "id": "Sa6_4EVDgj6J",
        "outputId": "310dfdb4-2b1f-49ef-8c06-0ef3178665d0"
      },
      "execution_count": null,
      "outputs": [
        {
          "output_type": "stream",
          "name": "stdout",
          "text": [
            "+---+----------+---------+------+---------+-------------------+---------+----------+----------+\n",
            "| id|first_name|last_name|gender|     City|           JobTitle|   Salary|  Latitude| Longitude|\n",
            "+---+----------+---------+------+---------+-------------------+---------+----------+----------+\n",
            "|  1|   Melinde|Shilburne|Female|Nowa Ruda|Assistant Professor|$57438.18|50.5774075|16.4967184|\n",
            "+---+----------+---------+------+---------+-------------------+---------+----------+----------+\n",
            "\n"
          ]
        }
      ]
    },
    {
      "cell_type": "code",
      "source": [
        "df.filter(df.first_name.endswith('din')).show()"
      ],
      "metadata": {
        "colab": {
          "base_uri": "https://localhost:8080/"
        },
        "id": "K5t0KXV4gumj",
        "outputId": "099ffcb4-07c2-44b9-a879-ca0fdba698b8"
      },
      "execution_count": null,
      "outputs": [
        {
          "output_type": "stream",
          "name": "stdout",
          "text": [
            "+---+----------+-------------+------+-----------+--------+---------+-----------+----------+\n",
            "| id|first_name|    last_name|gender|       City|JobTitle|   Salary|   Latitude| Longitude|\n",
            "+---+----------+-------------+------+-----------+--------+---------+-----------+----------+\n",
            "|901|     Aldin|Matuszkiewicz|  Male|East London|Operator|$41468.83|-32.9549324|27.9319131|\n",
            "+---+----------+-------------+------+-----------+--------+---------+-----------+----------+\n",
            "\n"
          ]
        }
      ]
    },
    {
      "cell_type": "code",
      "source": [
        "df.filter(df.first_name.startswith('All')).show()"
      ],
      "metadata": {
        "colab": {
          "base_uri": "https://localhost:8080/"
        },
        "id": "Aad2CXIYg3Pv",
        "outputId": "472697bd-c494-4413-95a0-0a7b06d57621"
      },
      "execution_count": null,
      "outputs": [
        {
          "output_type": "stream",
          "name": "stdout",
          "text": [
            "+---+----------+-----------+------+----------+--------------------+---------+----------+-----------+\n",
            "| id|first_name|  last_name|gender|      City|            JobTitle|   Salary|  Latitude|  Longitude|\n",
            "+---+----------+-----------+------+----------+--------------------+---------+----------+-----------+\n",
            "|115|    Allard|     Cordel|  Male| Mieścisko|Compensation Analyst|$18907.81|45.8630194|   5.947966|\n",
            "|117|      Alli|    Mc Pake|Female|    Gerong|     Staff Scientist|$58172.73|-6.2002533|106.8221628|\n",
            "|299|     Alley|Brockington|  Male| Balahovit|Community Outreac...|$74464.26|40.2544003| 44.6027766|\n",
            "|347|   Allayne|      Dooly|  Male|Kastornoye|  Help Desk Operator|$23794.18|51.8315426| 38.1394579|\n",
            "|743|     Allix|  Kilgallen|Female|Dahuangwei| Staff Accountant II|$66687.59| 39.534154| 113.087107|\n",
            "+---+----------+-----------+------+----------+--------------------+---------+----------+-----------+\n",
            "\n"
          ]
        }
      ]
    },
    {
      "cell_type": "code",
      "source": [
        "df.filter(df.id.between(1,5)).show()"
      ],
      "metadata": {
        "colab": {
          "base_uri": "https://localhost:8080/"
        },
        "id": "bOTK1Qp-hDst",
        "outputId": "13ebfb5e-5a8a-46d8-e870-1b83fd1fc7bd"
      },
      "execution_count": null,
      "outputs": [
        {
          "output_type": "stream",
          "name": "stdout",
          "text": [
            "+---+----------+----------+------+-------------+--------------------+---------+----------+-----------+\n",
            "| id|first_name| last_name|gender|         City|            JobTitle|   Salary|  Latitude|  Longitude|\n",
            "+---+----------+----------+------+-------------+--------------------+---------+----------+-----------+\n",
            "|  1|   Melinde| Shilburne|Female|    Nowa Ruda| Assistant Professor|$57438.18|50.5774075| 16.4967184|\n",
            "|  2|  Kimberly|Von Welden|Female|       Bulgan|       Programmer II|$62846.60|48.8231572|103.5218199|\n",
            "|  3|    Alvera|  Di Boldi|Female|         null|                null|$57576.52|39.9947462|116.3397725|\n",
            "|  4|   Shannon| O'Griffin|  Male|Divnomorskoye|Budget/Accounting...|$61489.23|44.5047212| 38.1300171|\n",
            "|  5|  Sherwood|   Macieja|  Male|    Mytishchi|            VP Sales|$63863.09|      null| 37.6489954|\n",
            "+---+----------+----------+------+-------------+--------------------+---------+----------+-----------+\n",
            "\n"
          ]
        }
      ]
    },
    {
      "cell_type": "code",
      "source": [
        "df.filter(df.first_name.isin('Aldin','Valma')).show()"
      ],
      "metadata": {
        "colab": {
          "base_uri": "https://localhost:8080/"
        },
        "id": "jc7tf6cyhI-C",
        "outputId": "050a1064-08a6-4219-f6e2-3dd7b2889ae7"
      },
      "execution_count": null,
      "outputs": [
        {
          "output_type": "stream",
          "name": "stdout",
          "text": [
            "+---+----------+-------------+------+-----------+----------------+---------+-----------+-----------+\n",
            "| id|first_name|    last_name|gender|       City|        JobTitle|   Salary|   Latitude|  Longitude|\n",
            "+---+----------+-------------+------+-----------+----------------+---------+-----------+-----------+\n",
            "|569|     Valma|      Bratton|Female|  Kurayoshi|Web Developer II|$32665.89| 35.4499037|133.7613311|\n",
            "|901|     Aldin|Matuszkiewicz|  Male|East London|        Operator|$41468.83|-32.9549324| 27.9319131|\n",
            "+---+----------+-------------+------+-----------+----------------+---------+-----------+-----------+\n",
            "\n"
          ]
        }
      ]
    },
    {
      "cell_type": "code",
      "source": [
        "df.select(df.first_name,df.first_name.substr(1,5).alias('name')).show()"
      ],
      "metadata": {
        "colab": {
          "base_uri": "https://localhost:8080/"
        },
        "id": "HUDQPueVhY9P",
        "outputId": "37bc42a4-e1af-4413-efd2-42a4834f2c0d"
      },
      "execution_count": null,
      "outputs": [
        {
          "output_type": "stream",
          "name": "stdout",
          "text": [
            "+----------+-----+\n",
            "|first_name| name|\n",
            "+----------+-----+\n",
            "|   Melinde|Melin|\n",
            "|  Kimberly|Kimbe|\n",
            "|    Alvera|Alver|\n",
            "|   Shannon|Shann|\n",
            "|  Sherwood|Sherw|\n",
            "|     Maris|Maris|\n",
            "|     Masha|Masha|\n",
            "|   Goddart|Godda|\n",
            "|      Roth| Roth|\n",
            "|      Bran| Bran|\n",
            "|    Kylynn|Kylyn|\n",
            "|       Rey|  Rey|\n",
            "|      Kerr| Kerr|\n",
            "|    Mickie|Micki|\n",
            "|    Kaspar|Kaspa|\n",
            "|    Norbie|Norbi|\n",
            "|    Claude|Claud|\n",
            "|     Thain|Thain|\n",
            "|  Tiffanie|Tiffa|\n",
            "|    Ettore|Ettor|\n",
            "+----------+-----+\n",
            "only showing top 20 rows\n",
            "\n"
          ]
        }
      ]
    },
    {
      "cell_type": "code",
      "source": [
        "mydata.show()"
      ],
      "metadata": {
        "colab": {
          "base_uri": "https://localhost:8080/"
        },
        "id": "F7Jcf8iZ89Ml",
        "outputId": "c77972b2-a1ee-407b-d37d-df1518911c96"
      },
      "execution_count": null,
      "outputs": [
        {
          "output_type": "stream",
          "name": "stdout",
          "text": [
            "+---+----------+----------+------+---------------+--------------------+---------+----------+-----------+\n",
            "| id|first_name| last_name|gender|           City|            JobTitle|   Salary|  Latitude|  Longitude|\n",
            "+---+----------+----------+------+---------------+--------------------+---------+----------+-----------+\n",
            "|  1|   Melinde| Shilburne|Female|      Nowa Ruda| Assistant Professor|$57438.18|50.5774075| 16.4967184|\n",
            "|  2|  Kimberly|Von Welden|Female|         Bulgan|       Programmer II|$62846.60|48.8231572|103.5218199|\n",
            "|  3|    Alvera|  Di Boldi|Female|           null|                null|$57576.52|39.9947462|116.3397725|\n",
            "|  4|   Shannon| O'Griffin|  Male|  Divnomorskoye|Budget/Accounting...|$61489.23|44.5047212| 38.1300171|\n",
            "|  5|  Sherwood|   Macieja|  Male|      Mytishchi|            VP Sales|$63863.09|      null| 37.6489954|\n",
            "|  6|     Maris|      Folk|Female|Kinsealy-Drinan|      Civil Engineer|$30101.16|53.4266145| -6.1644997|\n",
            "|  7|     Masha|    Divers|Female|         Dachun|                null|$25090.87| 24.879416| 118.930111|\n",
            "|  8|   Goddart|     Flear|  Male|      Trélissac|Desktop Support T...|$46116.36|45.1905186|  0.7423124|\n",
            "|  9|      Roth|O'Cannavan|  Male|         Heitan|VP Product Manage...|$73697.10| 32.027934| 106.657113|\n",
            "| 10|      Bran|   Trahear|  Male|       Arbeláez|Mechanical System...|$68098.42|  4.272793| -74.416014|\n",
            "| 11|    Kylynn|   Lockart|Female|       El Cardo|Nuclear Power Eng...|$13604.63|     -5.85|-79.8833329|\n",
            "| 12|       Rey|    Meharg|Female|    Wangqingtuo|Systems Administr...|$73423.70| 39.172378| 116.931607|\n",
            "| 13|      Kerr|    Braden|  Male|      Sułkowice|Compensation Analyst|$33432.99|49.8151822| 19.3771749|\n",
            "| 14|    Mickie| Whanstall|  Male|    Springfield|Assistant Media P...|$50838.53|42.1014803|-72.5766759|\n",
            "| 15|    Kaspar|     Pally|  Male|         Chrást|  Analyst Programmer|$40163.03|49.7923299| 13.4915324|\n",
            "| 16|    Norbie|    Gwyllt|  Male|         Xijiao|              Editor|$32492.73|43.4945737|  5.8978018|\n",
            "| 17|    Claude|    Briant|Female|      Mieścisko|Research Assistan...|$51862.48|52.7441662| 17.3278637|\n",
            "| 18|     Thain|    Habbon|  Male| Foros do Trapo|     Design Engineer|$42135.67| 38.696249| -8.7098337|\n",
            "| 19|  Tiffanie|  Pattison|Female|    Jabungsisir|Senior Financial ...|$91925.08|-7.7232567|113.4686802|\n",
            "| 20|    Ettore|  Gerriets|  Male|          Pedra| Staff Accountant IV|$73921.33|40.7172049| -8.3625148|\n",
            "+---+----------+----------+------+---------------+--------------------+---------+----------+-----------+\n",
            "only showing top 20 rows\n",
            "\n"
          ]
        }
      ]
    },
    {
      "cell_type": "code",
      "source": [
        "from pyspark.sql.functions import * \n",
        "\n",
        "mydata2= mydata.withColumn('clean_city',when(mydata.City.isNull(),'unknown').otherwise(mydata.City))"
      ],
      "metadata": {
        "id": "XcIA1vi19DD0"
      },
      "execution_count": null,
      "outputs": []
    },
    {
      "cell_type": "code",
      "source": [
        "mydata2.show()"
      ],
      "metadata": {
        "colab": {
          "base_uri": "https://localhost:8080/"
        },
        "id": "XtBVeCbU9mjQ",
        "outputId": "34af028c-ce81-4fa2-e631-10357dfd4326"
      },
      "execution_count": null,
      "outputs": [
        {
          "output_type": "stream",
          "name": "stdout",
          "text": [
            "+---+----------+----------+------+---------------+--------------------+---------+----------+-----------+---------------+\n",
            "| id|first_name| last_name|gender|           City|            JobTitle|   Salary|  Latitude|  Longitude|     clean_city|\n",
            "+---+----------+----------+------+---------------+--------------------+---------+----------+-----------+---------------+\n",
            "|  1|   Melinde| Shilburne|Female|      Nowa Ruda| Assistant Professor|$57438.18|50.5774075| 16.4967184|      Nowa Ruda|\n",
            "|  2|  Kimberly|Von Welden|Female|         Bulgan|       Programmer II|$62846.60|48.8231572|103.5218199|         Bulgan|\n",
            "|  3|    Alvera|  Di Boldi|Female|           null|                null|$57576.52|39.9947462|116.3397725|        unknown|\n",
            "|  4|   Shannon| O'Griffin|  Male|  Divnomorskoye|Budget/Accounting...|$61489.23|44.5047212| 38.1300171|  Divnomorskoye|\n",
            "|  5|  Sherwood|   Macieja|  Male|      Mytishchi|            VP Sales|$63863.09|      null| 37.6489954|      Mytishchi|\n",
            "|  6|     Maris|      Folk|Female|Kinsealy-Drinan|      Civil Engineer|$30101.16|53.4266145| -6.1644997|Kinsealy-Drinan|\n",
            "|  7|     Masha|    Divers|Female|         Dachun|                null|$25090.87| 24.879416| 118.930111|         Dachun|\n",
            "|  8|   Goddart|     Flear|  Male|      Trélissac|Desktop Support T...|$46116.36|45.1905186|  0.7423124|      Trélissac|\n",
            "|  9|      Roth|O'Cannavan|  Male|         Heitan|VP Product Manage...|$73697.10| 32.027934| 106.657113|         Heitan|\n",
            "| 10|      Bran|   Trahear|  Male|       Arbeláez|Mechanical System...|$68098.42|  4.272793| -74.416014|       Arbeláez|\n",
            "| 11|    Kylynn|   Lockart|Female|       El Cardo|Nuclear Power Eng...|$13604.63|     -5.85|-79.8833329|       El Cardo|\n",
            "| 12|       Rey|    Meharg|Female|    Wangqingtuo|Systems Administr...|$73423.70| 39.172378| 116.931607|    Wangqingtuo|\n",
            "| 13|      Kerr|    Braden|  Male|      Sułkowice|Compensation Analyst|$33432.99|49.8151822| 19.3771749|      Sułkowice|\n",
            "| 14|    Mickie| Whanstall|  Male|    Springfield|Assistant Media P...|$50838.53|42.1014803|-72.5766759|    Springfield|\n",
            "| 15|    Kaspar|     Pally|  Male|         Chrást|  Analyst Programmer|$40163.03|49.7923299| 13.4915324|         Chrást|\n",
            "| 16|    Norbie|    Gwyllt|  Male|         Xijiao|              Editor|$32492.73|43.4945737|  5.8978018|         Xijiao|\n",
            "| 17|    Claude|    Briant|Female|      Mieścisko|Research Assistan...|$51862.48|52.7441662| 17.3278637|      Mieścisko|\n",
            "| 18|     Thain|    Habbon|  Male| Foros do Trapo|     Design Engineer|$42135.67| 38.696249| -8.7098337| Foros do Trapo|\n",
            "| 19|  Tiffanie|  Pattison|Female|    Jabungsisir|Senior Financial ...|$91925.08|-7.7232567|113.4686802|    Jabungsisir|\n",
            "| 20|    Ettore|  Gerriets|  Male|          Pedra| Staff Accountant IV|$73921.33|40.7172049| -8.3625148|          Pedra|\n",
            "+---+----------+----------+------+---------------+--------------------+---------+----------+-----------+---------------+\n",
            "only showing top 20 rows\n",
            "\n"
          ]
        }
      ]
    },
    {
      "cell_type": "code",
      "source": [
        "mydata2 = mydata2.filter(mydata2.JobTitle.isNotNull())"
      ],
      "metadata": {
        "id": "W2r4ryu59n4q"
      },
      "execution_count": null,
      "outputs": []
    },
    {
      "cell_type": "code",
      "source": [
        "mydata2.show()"
      ],
      "metadata": {
        "colab": {
          "base_uri": "https://localhost:8080/"
        },
        "id": "lh__XuVl96Ww",
        "outputId": "072d5d0b-9764-4c3b-cae3-52ddf910bec5"
      },
      "execution_count": null,
      "outputs": [
        {
          "output_type": "stream",
          "name": "stdout",
          "text": [
            "+---+----------+----------+------+---------------+--------------------+---------+----------+-----------+---------------+\n",
            "| id|first_name| last_name|gender|           City|            JobTitle|   Salary|  Latitude|  Longitude|     clean_city|\n",
            "+---+----------+----------+------+---------------+--------------------+---------+----------+-----------+---------------+\n",
            "|  1|   Melinde| Shilburne|Female|      Nowa Ruda| Assistant Professor|$57438.18|50.5774075| 16.4967184|      Nowa Ruda|\n",
            "|  2|  Kimberly|Von Welden|Female|         Bulgan|       Programmer II|$62846.60|48.8231572|103.5218199|         Bulgan|\n",
            "|  4|   Shannon| O'Griffin|  Male|  Divnomorskoye|Budget/Accounting...|$61489.23|44.5047212| 38.1300171|  Divnomorskoye|\n",
            "|  5|  Sherwood|   Macieja|  Male|      Mytishchi|            VP Sales|$63863.09|      null| 37.6489954|      Mytishchi|\n",
            "|  6|     Maris|      Folk|Female|Kinsealy-Drinan|      Civil Engineer|$30101.16|53.4266145| -6.1644997|Kinsealy-Drinan|\n",
            "|  8|   Goddart|     Flear|  Male|      Trélissac|Desktop Support T...|$46116.36|45.1905186|  0.7423124|      Trélissac|\n",
            "|  9|      Roth|O'Cannavan|  Male|         Heitan|VP Product Manage...|$73697.10| 32.027934| 106.657113|         Heitan|\n",
            "| 10|      Bran|   Trahear|  Male|       Arbeláez|Mechanical System...|$68098.42|  4.272793| -74.416014|       Arbeláez|\n",
            "| 11|    Kylynn|   Lockart|Female|       El Cardo|Nuclear Power Eng...|$13604.63|     -5.85|-79.8833329|       El Cardo|\n",
            "| 12|       Rey|    Meharg|Female|    Wangqingtuo|Systems Administr...|$73423.70| 39.172378| 116.931607|    Wangqingtuo|\n",
            "| 13|      Kerr|    Braden|  Male|      Sułkowice|Compensation Analyst|$33432.99|49.8151822| 19.3771749|      Sułkowice|\n",
            "| 14|    Mickie| Whanstall|  Male|    Springfield|Assistant Media P...|$50838.53|42.1014803|-72.5766759|    Springfield|\n",
            "| 15|    Kaspar|     Pally|  Male|         Chrást|  Analyst Programmer|$40163.03|49.7923299| 13.4915324|         Chrást|\n",
            "| 16|    Norbie|    Gwyllt|  Male|         Xijiao|              Editor|$32492.73|43.4945737|  5.8978018|         Xijiao|\n",
            "| 17|    Claude|    Briant|Female|      Mieścisko|Research Assistan...|$51862.48|52.7441662| 17.3278637|      Mieścisko|\n",
            "| 18|     Thain|    Habbon|  Male| Foros do Trapo|     Design Engineer|$42135.67| 38.696249| -8.7098337| Foros do Trapo|\n",
            "| 19|  Tiffanie|  Pattison|Female|    Jabungsisir|Senior Financial ...|$91925.08|-7.7232567|113.4686802|    Jabungsisir|\n",
            "| 20|    Ettore|  Gerriets|  Male|          Pedra| Staff Accountant IV|$73921.33|40.7172049| -8.3625148|          Pedra|\n",
            "| 21|      Alon|  Chasteau|  Male|          Xin’e|     Web Developer I|$62755.85|  49.16291|  127.98658|          Xin’e|\n",
            "| 22|   Guthrey|    Johnke|  Male|         Xijiao|         Developer I|$13708.03|40.7576842| 23.1342184|         Xijiao|\n",
            "+---+----------+----------+------+---------------+--------------------+---------+----------+-----------+---------------+\n",
            "only showing top 20 rows\n",
            "\n"
          ]
        }
      ]
    },
    {
      "cell_type": "code",
      "source": [
        "mydata2.show()"
      ],
      "metadata": {
        "colab": {
          "base_uri": "https://localhost:8080/"
        },
        "id": "vywDknM4-RmY",
        "outputId": "26382089-11ac-4c94-e6cf-ac5726ccb50e"
      },
      "execution_count": null,
      "outputs": [
        {
          "output_type": "stream",
          "name": "stdout",
          "text": [
            "+---+----------+----------+------+---------------+--------------------+---------+----------+-----------+---------------+\n",
            "| id|first_name| last_name|gender|           City|            JobTitle|   Salary|  Latitude|  Longitude|     clean_city|\n",
            "+---+----------+----------+------+---------------+--------------------+---------+----------+-----------+---------------+\n",
            "|  1|   Melinde| Shilburne|Female|      Nowa Ruda| Assistant Professor|$57438.18|50.5774075| 16.4967184|      Nowa Ruda|\n",
            "|  2|  Kimberly|Von Welden|Female|         Bulgan|       Programmer II|$62846.60|48.8231572|103.5218199|         Bulgan|\n",
            "|  4|   Shannon| O'Griffin|  Male|  Divnomorskoye|Budget/Accounting...|$61489.23|44.5047212| 38.1300171|  Divnomorskoye|\n",
            "|  5|  Sherwood|   Macieja|  Male|      Mytishchi|            VP Sales|$63863.09|      null| 37.6489954|      Mytishchi|\n",
            "|  6|     Maris|      Folk|Female|Kinsealy-Drinan|      Civil Engineer|$30101.16|53.4266145| -6.1644997|Kinsealy-Drinan|\n",
            "|  8|   Goddart|     Flear|  Male|      Trélissac|Desktop Support T...|$46116.36|45.1905186|  0.7423124|      Trélissac|\n",
            "|  9|      Roth|O'Cannavan|  Male|         Heitan|VP Product Manage...|$73697.10| 32.027934| 106.657113|         Heitan|\n",
            "| 10|      Bran|   Trahear|  Male|       Arbeláez|Mechanical System...|$68098.42|  4.272793| -74.416014|       Arbeláez|\n",
            "| 11|    Kylynn|   Lockart|Female|       El Cardo|Nuclear Power Eng...|$13604.63|     -5.85|-79.8833329|       El Cardo|\n",
            "| 12|       Rey|    Meharg|Female|    Wangqingtuo|Systems Administr...|$73423.70| 39.172378| 116.931607|    Wangqingtuo|\n",
            "| 13|      Kerr|    Braden|  Male|      Sułkowice|Compensation Analyst|$33432.99|49.8151822| 19.3771749|      Sułkowice|\n",
            "| 14|    Mickie| Whanstall|  Male|    Springfield|Assistant Media P...|$50838.53|42.1014803|-72.5766759|    Springfield|\n",
            "| 15|    Kaspar|     Pally|  Male|         Chrást|  Analyst Programmer|$40163.03|49.7923299| 13.4915324|         Chrást|\n",
            "| 16|    Norbie|    Gwyllt|  Male|         Xijiao|              Editor|$32492.73|43.4945737|  5.8978018|         Xijiao|\n",
            "| 17|    Claude|    Briant|Female|      Mieścisko|Research Assistan...|$51862.48|52.7441662| 17.3278637|      Mieścisko|\n",
            "| 18|     Thain|    Habbon|  Male| Foros do Trapo|     Design Engineer|$42135.67| 38.696249| -8.7098337| Foros do Trapo|\n",
            "| 19|  Tiffanie|  Pattison|Female|    Jabungsisir|Senior Financial ...|$91925.08|-7.7232567|113.4686802|    Jabungsisir|\n",
            "| 20|    Ettore|  Gerriets|  Male|          Pedra| Staff Accountant IV|$73921.33|40.7172049| -8.3625148|          Pedra|\n",
            "| 21|      Alon|  Chasteau|  Male|          Xin’e|     Web Developer I|$62755.85|  49.16291|  127.98658|          Xin’e|\n",
            "| 22|   Guthrey|    Johnke|  Male|         Xijiao|         Developer I|$13708.03|40.7576842| 23.1342184|         Xijiao|\n",
            "+---+----------+----------+------+---------------+--------------------+---------+----------+-----------+---------------+\n",
            "only showing top 20 rows\n",
            "\n"
          ]
        }
      ]
    },
    {
      "cell_type": "code",
      "source": [
        "mydata2.select('Salary').show()"
      ],
      "metadata": {
        "colab": {
          "base_uri": "https://localhost:8080/"
        },
        "id": "ixAxe2Gp-mgI",
        "outputId": "89cedf89-beba-4d98-961d-75b28d58dfe2"
      },
      "execution_count": null,
      "outputs": [
        {
          "output_type": "stream",
          "name": "stdout",
          "text": [
            "+---------+\n",
            "|   Salary|\n",
            "+---------+\n",
            "|$57438.18|\n",
            "|$62846.60|\n",
            "|$61489.23|\n",
            "|$63863.09|\n",
            "|$30101.16|\n",
            "|$46116.36|\n",
            "|$73697.10|\n",
            "|$68098.42|\n",
            "|$13604.63|\n",
            "|$73423.70|\n",
            "|$33432.99|\n",
            "|$50838.53|\n",
            "|$40163.03|\n",
            "|$32492.73|\n",
            "|$51862.48|\n",
            "|$42135.67|\n",
            "|$91925.08|\n",
            "|$73921.33|\n",
            "|$62755.85|\n",
            "|$13708.03|\n",
            "+---------+\n",
            "only showing top 20 rows\n",
            "\n"
          ]
        }
      ]
    },
    {
      "cell_type": "code",
      "source": [
        "mydata2 = mydata2.withColumn('clean_salary',mydata2.Salary.substr(2,100).cast('float'))"
      ],
      "metadata": {
        "id": "VNDTtGII-AFv"
      },
      "execution_count": null,
      "outputs": []
    },
    {
      "cell_type": "code",
      "source": [
        "mean = mydata2.groupBy().avg('clean_salary').take(1)[0][0]"
      ],
      "metadata": {
        "id": "yN6zdd0d-2M1"
      },
      "execution_count": null,
      "outputs": []
    },
    {
      "cell_type": "code",
      "source": [
        "mean"
      ],
      "metadata": {
        "colab": {
          "base_uri": "https://localhost:8080/"
        },
        "id": "HdCzGZKaB6DJ",
        "outputId": "87c7b41a-3ecb-4c64-93bd-bc31fac55bfa"
      },
      "execution_count": null,
      "outputs": [
        {
          "output_type": "execute_result",
          "data": {
            "text/plain": [
              "55516.32088199837"
            ]
          },
          "metadata": {},
          "execution_count": 48
        }
      ]
    },
    {
      "cell_type": "code",
      "source": [
        "from pyspark.sql.functions import lit\n",
        "\n",
        "\n",
        "mydata2 = mydata2.withColumn('new_salary',when(mydata2.clean_salary.isNull(),lit(mean)).otherwise(mydata2.clean_salary))\n",
        "\n",
        "\n"
      ],
      "metadata": {
        "id": "Pof6Ymm697gG"
      },
      "execution_count": null,
      "outputs": []
    },
    {
      "cell_type": "code",
      "source": [
        "mydata2.show()"
      ],
      "metadata": {
        "colab": {
          "base_uri": "https://localhost:8080/"
        },
        "id": "T5gxU2CK_acJ",
        "outputId": "abb380e6-e790-4db9-debf-63176856c072"
      },
      "execution_count": null,
      "outputs": [
        {
          "output_type": "stream",
          "name": "stdout",
          "text": [
            "+---+----------+----------+------+---------------+--------------------+---------+----------+-----------+---------------+------------+----------------+\n",
            "| id|first_name| last_name|gender|           City|            JobTitle|   Salary|  Latitude|  Longitude|     clean_city|clean_salary|      new_salary|\n",
            "+---+----------+----------+------+---------------+--------------------+---------+----------+-----------+---------------+------------+----------------+\n",
            "|  1|   Melinde| Shilburne|Female|      Nowa Ruda| Assistant Professor|$57438.18|50.5774075| 16.4967184|      Nowa Ruda|    57438.18|   57438.1796875|\n",
            "|  2|  Kimberly|Von Welden|Female|         Bulgan|       Programmer II|$62846.60|48.8231572|103.5218199|         Bulgan|     62846.6|   62846.6015625|\n",
            "|  4|   Shannon| O'Griffin|  Male|  Divnomorskoye|Budget/Accounting...|$61489.23|44.5047212| 38.1300171|  Divnomorskoye|    61489.23|  61489.23046875|\n",
            "|  5|  Sherwood|   Macieja|  Male|      Mytishchi|            VP Sales|$63863.09|      null| 37.6489954|      Mytishchi|    63863.09|  63863.08984375|\n",
            "|  6|     Maris|      Folk|Female|Kinsealy-Drinan|      Civil Engineer|$30101.16|53.4266145| -6.1644997|Kinsealy-Drinan|    30101.16|  30101.16015625|\n",
            "|  8|   Goddart|     Flear|  Male|      Trélissac|Desktop Support T...|$46116.36|45.1905186|  0.7423124|      Trélissac|    46116.36|    46116.359375|\n",
            "|  9|      Roth|O'Cannavan|  Male|         Heitan|VP Product Manage...|$73697.10| 32.027934| 106.657113|         Heitan|     73697.1|   73697.1015625|\n",
            "| 10|      Bran|   Trahear|  Male|       Arbeláez|Mechanical System...|$68098.42|  4.272793| -74.416014|       Arbeláez|    68098.42|    68098.421875|\n",
            "| 11|    Kylynn|   Lockart|Female|       El Cardo|Nuclear Power Eng...|$13604.63|     -5.85|-79.8833329|       El Cardo|    13604.63|13604.6298828125|\n",
            "| 12|       Rey|    Meharg|Female|    Wangqingtuo|Systems Administr...|$73423.70| 39.172378| 116.931607|    Wangqingtuo|     73423.7|    73423.703125|\n",
            "| 13|      Kerr|    Braden|  Male|      Sułkowice|Compensation Analyst|$33432.99|49.8151822| 19.3771749|      Sułkowice|    33432.99|  33432.98828125|\n",
            "| 14|    Mickie| Whanstall|  Male|    Springfield|Assistant Media P...|$50838.53|42.1014803|-72.5766759|    Springfield|    50838.53|     50838.53125|\n",
            "| 15|    Kaspar|     Pally|  Male|         Chrást|  Analyst Programmer|$40163.03|49.7923299| 13.4915324|         Chrást|    40163.03|     40163.03125|\n",
            "| 16|    Norbie|    Gwyllt|  Male|         Xijiao|              Editor|$32492.73|43.4945737|  5.8978018|         Xijiao|    32492.73|  32492.73046875|\n",
            "| 17|    Claude|    Briant|Female|      Mieścisko|Research Assistan...|$51862.48|52.7441662| 17.3278637|      Mieścisko|    51862.48|  51862.48046875|\n",
            "| 18|     Thain|    Habbon|  Male| Foros do Trapo|     Design Engineer|$42135.67| 38.696249| -8.7098337| Foros do Trapo|    42135.67|    42135.671875|\n",
            "| 19|  Tiffanie|  Pattison|Female|    Jabungsisir|Senior Financial ...|$91925.08|-7.7232567|113.4686802|    Jabungsisir|    91925.08|    91925.078125|\n",
            "| 20|    Ettore|  Gerriets|  Male|          Pedra| Staff Accountant IV|$73921.33|40.7172049| -8.3625148|          Pedra|    73921.33|    73921.328125|\n",
            "| 21|      Alon|  Chasteau|  Male|          Xin’e|     Web Developer I|$62755.85|  49.16291|  127.98658|          Xin’e|    62755.85|   62755.8515625|\n",
            "| 22|   Guthrey|    Johnke|  Male|         Xijiao|         Developer I|$13708.03|40.7576842| 23.1342184|         Xijiao|    13708.03|13708.0302734375|\n",
            "+---+----------+----------+------+---------------+--------------------+---------+----------+-----------+---------------+------------+----------------+\n",
            "only showing top 20 rows\n",
            "\n"
          ]
        }
      ]
    },
    {
      "cell_type": "code",
      "source": [
        "latitudes  = mydata2.select('latitude').filter(mydata2.Latitude.isNotNull())"
      ],
      "metadata": {
        "id": "ADrZ0EBoCKkm"
      },
      "execution_count": null,
      "outputs": []
    },
    {
      "cell_type": "code",
      "source": [
        "latitudes.show()"
      ],
      "metadata": {
        "colab": {
          "base_uri": "https://localhost:8080/"
        },
        "id": "OKSToR0XFON-",
        "outputId": "3fae3c51-4724-4813-fdba-061d783d0e8e"
      },
      "execution_count": null,
      "outputs": [
        {
          "output_type": "stream",
          "name": "stdout",
          "text": [
            "+----------+\n",
            "|  latitude|\n",
            "+----------+\n",
            "|50.5774075|\n",
            "|48.8231572|\n",
            "|44.5047212|\n",
            "|53.4266145|\n",
            "|45.1905186|\n",
            "| 32.027934|\n",
            "|  4.272793|\n",
            "|     -5.85|\n",
            "| 39.172378|\n",
            "|49.8151822|\n",
            "|42.1014803|\n",
            "|49.7923299|\n",
            "|43.4945737|\n",
            "|52.7441662|\n",
            "| 38.696249|\n",
            "|-7.7232567|\n",
            "|40.7172049|\n",
            "|  49.16291|\n",
            "|40.7576842|\n",
            "|48.4902808|\n",
            "+----------+\n",
            "only showing top 20 rows\n",
            "\n"
          ]
        }
      ]
    },
    {
      "cell_type": "code",
      "source": [
        "latitudes = latitudes.withColumn('latitude2',latitudes.latitude.cast('float')).select('latitude2')"
      ],
      "metadata": {
        "id": "0ZoP8IwDFPQm"
      },
      "execution_count": null,
      "outputs": []
    },
    {
      "cell_type": "code",
      "source": [
        "latitudes.show()"
      ],
      "metadata": {
        "colab": {
          "base_uri": "https://localhost:8080/"
        },
        "id": "EkILm0EgFtLv",
        "outputId": "a0c57cf8-2c6d-4e20-d33a-38468a10e0e9"
      },
      "execution_count": null,
      "outputs": [
        {
          "output_type": "stream",
          "name": "stdout",
          "text": [
            "+----------+\n",
            "| latitude2|\n",
            "+----------+\n",
            "| 50.577408|\n",
            "|  48.82316|\n",
            "| 44.504723|\n",
            "| 53.426613|\n",
            "| 45.190517|\n",
            "| 32.027935|\n",
            "|  4.272793|\n",
            "|     -5.85|\n",
            "|  39.17238|\n",
            "|  49.81518|\n",
            "|  42.10148|\n",
            "|  49.79233|\n",
            "| 43.494576|\n",
            "| 52.744167|\n",
            "| 38.696247|\n",
            "|-7.7232566|\n",
            "| 40.717205|\n",
            "|  49.16291|\n",
            "| 40.757683|\n",
            "|  48.49028|\n",
            "+----------+\n",
            "only showing top 20 rows\n",
            "\n"
          ]
        }
      ]
    },
    {
      "cell_type": "code",
      "source": [
        "import numpy as np \n",
        "\n",
        "median = np.median(latitudes.collect())"
      ],
      "metadata": {
        "id": "kWfkekNYFvpY"
      },
      "execution_count": null,
      "outputs": []
    },
    {
      "cell_type": "code",
      "source": [
        "median"
      ],
      "metadata": {
        "colab": {
          "base_uri": "https://localhost:8080/"
        },
        "id": "kdTM0_npF32X",
        "outputId": "6a77cdf6-9c19-446d-fc87-9213b20b5d39"
      },
      "execution_count": null,
      "outputs": [
        {
          "output_type": "execute_result",
          "data": {
            "text/plain": [
              "31.93397331237793"
            ]
          },
          "metadata": {},
          "execution_count": 56
        }
      ]
    },
    {
      "cell_type": "code",
      "source": [
        "mydata2 = mydata2.withColumn('lat',when(mydata2.Latitude.isNull(),lit(median)).otherwise(mydata2.Latitude))"
      ],
      "metadata": {
        "id": "Ms6_xBWnF4tc"
      },
      "execution_count": null,
      "outputs": []
    },
    {
      "cell_type": "code",
      "source": [
        "mydata2.show()"
      ],
      "metadata": {
        "colab": {
          "base_uri": "https://localhost:8080/"
        },
        "id": "DbSawSe0GJbi",
        "outputId": "631684f6-1f7f-40a8-83ec-7040b50dad2b"
      },
      "execution_count": null,
      "outputs": [
        {
          "output_type": "stream",
          "name": "stdout",
          "text": [
            "+---+----------+----------+------+---------------+--------------------+---------+----------+-----------+---------------+------------+----------------+-----------------+\n",
            "| id|first_name| last_name|gender|           City|            JobTitle|   Salary|  Latitude|  Longitude|     clean_city|clean_salary|      new_salary|              lat|\n",
            "+---+----------+----------+------+---------------+--------------------+---------+----------+-----------+---------------+------------+----------------+-----------------+\n",
            "|  1|   Melinde| Shilburne|Female|      Nowa Ruda| Assistant Professor|$57438.18|50.5774075| 16.4967184|      Nowa Ruda|    57438.18|   57438.1796875|       50.5774075|\n",
            "|  2|  Kimberly|Von Welden|Female|         Bulgan|       Programmer II|$62846.60|48.8231572|103.5218199|         Bulgan|     62846.6|   62846.6015625|       48.8231572|\n",
            "|  4|   Shannon| O'Griffin|  Male|  Divnomorskoye|Budget/Accounting...|$61489.23|44.5047212| 38.1300171|  Divnomorskoye|    61489.23|  61489.23046875|       44.5047212|\n",
            "|  5|  Sherwood|   Macieja|  Male|      Mytishchi|            VP Sales|$63863.09|      null| 37.6489954|      Mytishchi|    63863.09|  63863.08984375|31.93397331237793|\n",
            "|  6|     Maris|      Folk|Female|Kinsealy-Drinan|      Civil Engineer|$30101.16|53.4266145| -6.1644997|Kinsealy-Drinan|    30101.16|  30101.16015625|       53.4266145|\n",
            "|  8|   Goddart|     Flear|  Male|      Trélissac|Desktop Support T...|$46116.36|45.1905186|  0.7423124|      Trélissac|    46116.36|    46116.359375|       45.1905186|\n",
            "|  9|      Roth|O'Cannavan|  Male|         Heitan|VP Product Manage...|$73697.10| 32.027934| 106.657113|         Heitan|     73697.1|   73697.1015625|        32.027934|\n",
            "| 10|      Bran|   Trahear|  Male|       Arbeláez|Mechanical System...|$68098.42|  4.272793| -74.416014|       Arbeláez|    68098.42|    68098.421875|         4.272793|\n",
            "| 11|    Kylynn|   Lockart|Female|       El Cardo|Nuclear Power Eng...|$13604.63|     -5.85|-79.8833329|       El Cardo|    13604.63|13604.6298828125|            -5.85|\n",
            "| 12|       Rey|    Meharg|Female|    Wangqingtuo|Systems Administr...|$73423.70| 39.172378| 116.931607|    Wangqingtuo|     73423.7|    73423.703125|        39.172378|\n",
            "| 13|      Kerr|    Braden|  Male|      Sułkowice|Compensation Analyst|$33432.99|49.8151822| 19.3771749|      Sułkowice|    33432.99|  33432.98828125|       49.8151822|\n",
            "| 14|    Mickie| Whanstall|  Male|    Springfield|Assistant Media P...|$50838.53|42.1014803|-72.5766759|    Springfield|    50838.53|     50838.53125|       42.1014803|\n",
            "| 15|    Kaspar|     Pally|  Male|         Chrást|  Analyst Programmer|$40163.03|49.7923299| 13.4915324|         Chrást|    40163.03|     40163.03125|       49.7923299|\n",
            "| 16|    Norbie|    Gwyllt|  Male|         Xijiao|              Editor|$32492.73|43.4945737|  5.8978018|         Xijiao|    32492.73|  32492.73046875|       43.4945737|\n",
            "| 17|    Claude|    Briant|Female|      Mieścisko|Research Assistan...|$51862.48|52.7441662| 17.3278637|      Mieścisko|    51862.48|  51862.48046875|       52.7441662|\n",
            "| 18|     Thain|    Habbon|  Male| Foros do Trapo|     Design Engineer|$42135.67| 38.696249| -8.7098337| Foros do Trapo|    42135.67|    42135.671875|        38.696249|\n",
            "| 19|  Tiffanie|  Pattison|Female|    Jabungsisir|Senior Financial ...|$91925.08|-7.7232567|113.4686802|    Jabungsisir|    91925.08|    91925.078125|       -7.7232567|\n",
            "| 20|    Ettore|  Gerriets|  Male|          Pedra| Staff Accountant IV|$73921.33|40.7172049| -8.3625148|          Pedra|    73921.33|    73921.328125|       40.7172049|\n",
            "| 21|      Alon|  Chasteau|  Male|          Xin’e|     Web Developer I|$62755.85|  49.16291|  127.98658|          Xin’e|    62755.85|   62755.8515625|         49.16291|\n",
            "| 22|   Guthrey|    Johnke|  Male|         Xijiao|         Developer I|$13708.03|40.7576842| 23.1342184|         Xijiao|    13708.03|13708.0302734375|       40.7576842|\n",
            "+---+----------+----------+------+---------------+--------------------+---------+----------+-----------+---------------+------------+----------------+-----------------+\n",
            "only showing top 20 rows\n",
            "\n"
          ]
        }
      ]
    },
    {
      "cell_type": "code",
      "source": [
        "import pyspark.sql.functions as sqlfunc\n",
        "\n",
        "genders = mydata2.groupBy('gender').agg(sqlfunc.avg('new_salary').alias('avgSalary'))"
      ],
      "metadata": {
        "id": "VPMShBLwGLv8"
      },
      "execution_count": null,
      "outputs": []
    },
    {
      "cell_type": "code",
      "source": [
        "genders.show()"
      ],
      "metadata": {
        "colab": {
          "base_uri": "https://localhost:8080/"
        },
        "id": "bMej92cz4yph",
        "outputId": "6ed1d23b-e322-4abd-9147-260b19a9b4b0"
      },
      "execution_count": null,
      "outputs": [
        {
          "output_type": "stream",
          "name": "stdout",
          "text": [
            "+------+------------------+\n",
            "|gender|         avgSalary|\n",
            "+------+------------------+\n",
            "|Female|55677.250125558036|\n",
            "|  Male| 55361.09385573019|\n",
            "+------+------------------+\n",
            "\n"
          ]
        }
      ]
    },
    {
      "cell_type": "code",
      "source": [
        "mydata2.filter(mydata.gender=='Male').select('gender','Salary').show()"
      ],
      "metadata": {
        "colab": {
          "base_uri": "https://localhost:8080/"
        },
        "id": "3FKdJkQv5JOr",
        "outputId": "9cfac6a6-2d70-4ab4-be87-e5542dffd177"
      },
      "execution_count": null,
      "outputs": [
        {
          "output_type": "stream",
          "name": "stdout",
          "text": [
            "+------+---------+\n",
            "|gender|   Salary|\n",
            "+------+---------+\n",
            "|  Male|$61489.23|\n",
            "|  Male|$63863.09|\n",
            "|  Male|$46116.36|\n",
            "|  Male|$73697.10|\n",
            "|  Male|$68098.42|\n",
            "|  Male|$33432.99|\n",
            "|  Male|$50838.53|\n",
            "|  Male|$40163.03|\n",
            "|  Male|$32492.73|\n",
            "|  Male|$42135.67|\n",
            "|  Male|$73921.33|\n",
            "|  Male|$62755.85|\n",
            "|  Male|$13708.03|\n",
            "|  Male|$55313.18|\n",
            "|  Male|$78336.59|\n",
            "|  Male|$72777.48|\n",
            "|  Male|$53137.80|\n",
            "|  Male|$34851.65|\n",
            "|  Male|$99786.40|\n",
            "|  Male|$36879.44|\n",
            "+------+---------+\n",
            "only showing top 20 rows\n",
            "\n"
          ]
        }
      ]
    },
    {
      "cell_type": "code",
      "source": [
        "df = mydata2.withColumn('female_salary',when(mydata2.gender =='Female',mydata2.new_salary).otherwise(lit(0)))"
      ],
      "metadata": {
        "id": "GfS5jKmX4zOt"
      },
      "execution_count": null,
      "outputs": []
    },
    {
      "cell_type": "code",
      "source": [
        "df.show()"
      ],
      "metadata": {
        "colab": {
          "base_uri": "https://localhost:8080/"
        },
        "id": "wBer9FoB4-Kz",
        "outputId": "8d3603f7-92ca-4077-e4f1-da20222c34f4"
      },
      "execution_count": null,
      "outputs": [
        {
          "output_type": "stream",
          "name": "stdout",
          "text": [
            "+---+----------+----------+------+---------------+--------------------+---------+----------+-----------+---------------+------------+----------------+-----------------+----------------+\n",
            "| id|first_name| last_name|gender|           City|            JobTitle|   Salary|  Latitude|  Longitude|     clean_city|clean_salary|      new_salary|              lat|   female_salary|\n",
            "+---+----------+----------+------+---------------+--------------------+---------+----------+-----------+---------------+------------+----------------+-----------------+----------------+\n",
            "|  1|   Melinde| Shilburne|Female|      Nowa Ruda| Assistant Professor|$57438.18|50.5774075| 16.4967184|      Nowa Ruda|    57438.18|   57438.1796875|       50.5774075|   57438.1796875|\n",
            "|  2|  Kimberly|Von Welden|Female|         Bulgan|       Programmer II|$62846.60|48.8231572|103.5218199|         Bulgan|     62846.6|   62846.6015625|       48.8231572|   62846.6015625|\n",
            "|  4|   Shannon| O'Griffin|  Male|  Divnomorskoye|Budget/Accounting...|$61489.23|44.5047212| 38.1300171|  Divnomorskoye|    61489.23|  61489.23046875|       44.5047212|             0.0|\n",
            "|  5|  Sherwood|   Macieja|  Male|      Mytishchi|            VP Sales|$63863.09|      null| 37.6489954|      Mytishchi|    63863.09|  63863.08984375|31.93397331237793|             0.0|\n",
            "|  6|     Maris|      Folk|Female|Kinsealy-Drinan|      Civil Engineer|$30101.16|53.4266145| -6.1644997|Kinsealy-Drinan|    30101.16|  30101.16015625|       53.4266145|  30101.16015625|\n",
            "|  8|   Goddart|     Flear|  Male|      Trélissac|Desktop Support T...|$46116.36|45.1905186|  0.7423124|      Trélissac|    46116.36|    46116.359375|       45.1905186|             0.0|\n",
            "|  9|      Roth|O'Cannavan|  Male|         Heitan|VP Product Manage...|$73697.10| 32.027934| 106.657113|         Heitan|     73697.1|   73697.1015625|        32.027934|             0.0|\n",
            "| 10|      Bran|   Trahear|  Male|       Arbeláez|Mechanical System...|$68098.42|  4.272793| -74.416014|       Arbeláez|    68098.42|    68098.421875|         4.272793|             0.0|\n",
            "| 11|    Kylynn|   Lockart|Female|       El Cardo|Nuclear Power Eng...|$13604.63|     -5.85|-79.8833329|       El Cardo|    13604.63|13604.6298828125|            -5.85|13604.6298828125|\n",
            "| 12|       Rey|    Meharg|Female|    Wangqingtuo|Systems Administr...|$73423.70| 39.172378| 116.931607|    Wangqingtuo|     73423.7|    73423.703125|        39.172378|    73423.703125|\n",
            "| 13|      Kerr|    Braden|  Male|      Sułkowice|Compensation Analyst|$33432.99|49.8151822| 19.3771749|      Sułkowice|    33432.99|  33432.98828125|       49.8151822|             0.0|\n",
            "| 14|    Mickie| Whanstall|  Male|    Springfield|Assistant Media P...|$50838.53|42.1014803|-72.5766759|    Springfield|    50838.53|     50838.53125|       42.1014803|             0.0|\n",
            "| 15|    Kaspar|     Pally|  Male|         Chrást|  Analyst Programmer|$40163.03|49.7923299| 13.4915324|         Chrást|    40163.03|     40163.03125|       49.7923299|             0.0|\n",
            "| 16|    Norbie|    Gwyllt|  Male|         Xijiao|              Editor|$32492.73|43.4945737|  5.8978018|         Xijiao|    32492.73|  32492.73046875|       43.4945737|             0.0|\n",
            "| 17|    Claude|    Briant|Female|      Mieścisko|Research Assistan...|$51862.48|52.7441662| 17.3278637|      Mieścisko|    51862.48|  51862.48046875|       52.7441662|  51862.48046875|\n",
            "| 18|     Thain|    Habbon|  Male| Foros do Trapo|     Design Engineer|$42135.67| 38.696249| -8.7098337| Foros do Trapo|    42135.67|    42135.671875|        38.696249|             0.0|\n",
            "| 19|  Tiffanie|  Pattison|Female|    Jabungsisir|Senior Financial ...|$91925.08|-7.7232567|113.4686802|    Jabungsisir|    91925.08|    91925.078125|       -7.7232567|    91925.078125|\n",
            "| 20|    Ettore|  Gerriets|  Male|          Pedra| Staff Accountant IV|$73921.33|40.7172049| -8.3625148|          Pedra|    73921.33|    73921.328125|       40.7172049|             0.0|\n",
            "| 21|      Alon|  Chasteau|  Male|          Xin’e|     Web Developer I|$62755.85|  49.16291|  127.98658|          Xin’e|    62755.85|   62755.8515625|         49.16291|             0.0|\n",
            "| 22|   Guthrey|    Johnke|  Male|         Xijiao|         Developer I|$13708.03|40.7576842| 23.1342184|         Xijiao|    13708.03|13708.0302734375|       40.7576842|             0.0|\n",
            "+---+----------+----------+------+---------------+--------------------+---------+----------+-----------+---------------+------------+----------------+-----------------+----------------+\n",
            "only showing top 20 rows\n",
            "\n"
          ]
        }
      ]
    },
    {
      "cell_type": "code",
      "source": [
        "df = mydata2.withColumn('female_salary',when(mydata2.gender =='Female',mydata2.new_salary).otherwise(lit(0)))\n",
        "df = df.withColumn('male_salary',when(mydata2.gender =='Male',mydata2.new_salary).otherwise(lit(0)))"
      ],
      "metadata": {
        "id": "nzaqrSPZ57vm"
      },
      "execution_count": null,
      "outputs": []
    },
    {
      "cell_type": "code",
      "source": [
        "df.show()"
      ],
      "metadata": {
        "colab": {
          "base_uri": "https://localhost:8080/"
        },
        "id": "zKv81-3a6HBo",
        "outputId": "ed419a3f-3a18-446f-e719-2a83f867e4cf"
      },
      "execution_count": null,
      "outputs": [
        {
          "output_type": "stream",
          "name": "stdout",
          "text": [
            "+---+----------+----------+------+---------------+--------------------+---------+----------+-----------+---------------+------------+----------------+-----------------+----------------+----------------+\n",
            "| id|first_name| last_name|gender|           City|            JobTitle|   Salary|  Latitude|  Longitude|     clean_city|clean_salary|      new_salary|              lat|   female_salary|     male_salary|\n",
            "+---+----------+----------+------+---------------+--------------------+---------+----------+-----------+---------------+------------+----------------+-----------------+----------------+----------------+\n",
            "|  1|   Melinde| Shilburne|Female|      Nowa Ruda| Assistant Professor|$57438.18|50.5774075| 16.4967184|      Nowa Ruda|    57438.18|   57438.1796875|       50.5774075|   57438.1796875|             0.0|\n",
            "|  2|  Kimberly|Von Welden|Female|         Bulgan|       Programmer II|$62846.60|48.8231572|103.5218199|         Bulgan|     62846.6|   62846.6015625|       48.8231572|   62846.6015625|             0.0|\n",
            "|  4|   Shannon| O'Griffin|  Male|  Divnomorskoye|Budget/Accounting...|$61489.23|44.5047212| 38.1300171|  Divnomorskoye|    61489.23|  61489.23046875|       44.5047212|             0.0|  61489.23046875|\n",
            "|  5|  Sherwood|   Macieja|  Male|      Mytishchi|            VP Sales|$63863.09|      null| 37.6489954|      Mytishchi|    63863.09|  63863.08984375|31.93397331237793|             0.0|  63863.08984375|\n",
            "|  6|     Maris|      Folk|Female|Kinsealy-Drinan|      Civil Engineer|$30101.16|53.4266145| -6.1644997|Kinsealy-Drinan|    30101.16|  30101.16015625|       53.4266145|  30101.16015625|             0.0|\n",
            "|  8|   Goddart|     Flear|  Male|      Trélissac|Desktop Support T...|$46116.36|45.1905186|  0.7423124|      Trélissac|    46116.36|    46116.359375|       45.1905186|             0.0|    46116.359375|\n",
            "|  9|      Roth|O'Cannavan|  Male|         Heitan|VP Product Manage...|$73697.10| 32.027934| 106.657113|         Heitan|     73697.1|   73697.1015625|        32.027934|             0.0|   73697.1015625|\n",
            "| 10|      Bran|   Trahear|  Male|       Arbeláez|Mechanical System...|$68098.42|  4.272793| -74.416014|       Arbeláez|    68098.42|    68098.421875|         4.272793|             0.0|    68098.421875|\n",
            "| 11|    Kylynn|   Lockart|Female|       El Cardo|Nuclear Power Eng...|$13604.63|     -5.85|-79.8833329|       El Cardo|    13604.63|13604.6298828125|            -5.85|13604.6298828125|             0.0|\n",
            "| 12|       Rey|    Meharg|Female|    Wangqingtuo|Systems Administr...|$73423.70| 39.172378| 116.931607|    Wangqingtuo|     73423.7|    73423.703125|        39.172378|    73423.703125|             0.0|\n",
            "| 13|      Kerr|    Braden|  Male|      Sułkowice|Compensation Analyst|$33432.99|49.8151822| 19.3771749|      Sułkowice|    33432.99|  33432.98828125|       49.8151822|             0.0|  33432.98828125|\n",
            "| 14|    Mickie| Whanstall|  Male|    Springfield|Assistant Media P...|$50838.53|42.1014803|-72.5766759|    Springfield|    50838.53|     50838.53125|       42.1014803|             0.0|     50838.53125|\n",
            "| 15|    Kaspar|     Pally|  Male|         Chrást|  Analyst Programmer|$40163.03|49.7923299| 13.4915324|         Chrást|    40163.03|     40163.03125|       49.7923299|             0.0|     40163.03125|\n",
            "| 16|    Norbie|    Gwyllt|  Male|         Xijiao|              Editor|$32492.73|43.4945737|  5.8978018|         Xijiao|    32492.73|  32492.73046875|       43.4945737|             0.0|  32492.73046875|\n",
            "| 17|    Claude|    Briant|Female|      Mieścisko|Research Assistan...|$51862.48|52.7441662| 17.3278637|      Mieścisko|    51862.48|  51862.48046875|       52.7441662|  51862.48046875|             0.0|\n",
            "| 18|     Thain|    Habbon|  Male| Foros do Trapo|     Design Engineer|$42135.67| 38.696249| -8.7098337| Foros do Trapo|    42135.67|    42135.671875|        38.696249|             0.0|    42135.671875|\n",
            "| 19|  Tiffanie|  Pattison|Female|    Jabungsisir|Senior Financial ...|$91925.08|-7.7232567|113.4686802|    Jabungsisir|    91925.08|    91925.078125|       -7.7232567|    91925.078125|             0.0|\n",
            "| 20|    Ettore|  Gerriets|  Male|          Pedra| Staff Accountant IV|$73921.33|40.7172049| -8.3625148|          Pedra|    73921.33|    73921.328125|       40.7172049|             0.0|    73921.328125|\n",
            "| 21|      Alon|  Chasteau|  Male|          Xin’e|     Web Developer I|$62755.85|  49.16291|  127.98658|          Xin’e|    62755.85|   62755.8515625|         49.16291|             0.0|   62755.8515625|\n",
            "| 22|   Guthrey|    Johnke|  Male|         Xijiao|         Developer I|$13708.03|40.7576842| 23.1342184|         Xijiao|    13708.03|13708.0302734375|       40.7576842|             0.0|13708.0302734375|\n",
            "+---+----------+----------+------+---------------+--------------------+---------+----------+-----------+---------------+------------+----------------+-----------------+----------------+----------------+\n",
            "only showing top 20 rows\n",
            "\n"
          ]
        }
      ]
    },
    {
      "cell_type": "code",
      "source": [
        "df = df.groupby('jobTitle').agg(sqlfunc.avg('female_salary').alias(\"Female_average_salary\"),sqlfunc.avg('male_salary').alias(\"Male_average_salary\"))"
      ],
      "metadata": {
        "id": "ipb_wMk56IBG"
      },
      "execution_count": null,
      "outputs": []
    },
    {
      "cell_type": "code",
      "source": [
        "df.show()"
      ],
      "metadata": {
        "colab": {
          "base_uri": "https://localhost:8080/"
        },
        "id": "oco-r_uh6xhE",
        "outputId": "0f4f87a2-042d-4346-a464-98064f22b294"
      },
      "execution_count": null,
      "outputs": [
        {
          "output_type": "stream",
          "name": "stdout",
          "text": [
            "+--------------------+---------------------+-------------------+\n",
            "|            jobTitle|Female_average_salary|Male_average_salary|\n",
            "+--------------------+---------------------+-------------------+\n",
            "|Systems Administr...|      50590.474609375|   15540.9501953125|\n",
            "|   Media Manager III|   29586.436197916668| 17381.920572916668|\n",
            "|  Recruiting Manager|   34848.452473958336|   26383.4951171875|\n",
            "|       Geologist III|         31749.046875|     12830.75390625|\n",
            "|        Geologist II|                  0.0|    43293.865234375|\n",
            "|Database Administ...|                  0.0|      52018.4609375|\n",
            "|   Financial Analyst|      23353.776953125|        39606.05625|\n",
            "|  Analyst Programmer|     16406.1287109375|   21042.9634765625|\n",
            "|Software Engineer II|                  0.0|       74782.640625|\n",
            "|       Accountant IV|      82732.248046875|                0.0|\n",
            "|    Product Engineer|       41825.48359375|        20464.94375|\n",
            "|Software Test Eng...|     32218.6083984375|    27122.462890625|\n",
            "|Safety Technician...|                  0.0|    29421.529296875|\n",
            "|    Junior Executive|   15752.220052083334| 49510.330729166664|\n",
            "|Systems Administr...|          77059.21875|                0.0|\n",
            "|Human Resources A...|      24022.662109375|  16609.27783203125|\n",
            "|        VP Marketing|    7981.178385416667| 52844.534830729164|\n",
            "|  Environmental Tech|   13706.980143229166|       45660.890625|\n",
            "|Mechanical System...|   31370.781901041668| 44321.593098958336|\n",
            "| Assistant Professor|      22175.953515625|    26912.770703125|\n",
            "+--------------------+---------------------+-------------------+\n",
            "only showing top 20 rows\n",
            "\n"
          ]
        }
      ]
    },
    {
      "cell_type": "code",
      "source": [
        "df = df.withColumn('delta',df.Female_average_salary-df.Male_average_salary)\n",
        "\n",
        "df.show()"
      ],
      "metadata": {
        "colab": {
          "base_uri": "https://localhost:8080/"
        },
        "id": "kbOEHpEi60n5",
        "outputId": "4ae44af9-60d6-466c-ffcc-d766eebcddc5"
      },
      "execution_count": null,
      "outputs": [
        {
          "output_type": "stream",
          "name": "stdout",
          "text": [
            "+--------------------+---------------------+-------------------+-------------------+\n",
            "|            jobTitle|Female_average_salary|Male_average_salary|              delta|\n",
            "+--------------------+---------------------+-------------------+-------------------+\n",
            "|Systems Administr...|      50590.474609375|   15540.9501953125|   35049.5244140625|\n",
            "|   Media Manager III|   29586.436197916668| 17381.920572916668|       12204.515625|\n",
            "|  Recruiting Manager|   34848.452473958336|   26383.4951171875|  8464.957356770836|\n",
            "|       Geologist III|         31749.046875|     12830.75390625|     18918.29296875|\n",
            "|        Geologist II|                  0.0|    43293.865234375|   -43293.865234375|\n",
            "|Database Administ...|                  0.0|      52018.4609375|     -52018.4609375|\n",
            "|   Financial Analyst|      23353.776953125|        39606.05625|   -16252.279296875|\n",
            "|  Analyst Programmer|     16406.1287109375|   21042.9634765625| -4636.834765625001|\n",
            "|Software Engineer II|                  0.0|       74782.640625|      -74782.640625|\n",
            "|       Accountant IV|      82732.248046875|                0.0|    82732.248046875|\n",
            "|    Product Engineer|       41825.48359375|        20464.94375| 21360.539843750004|\n",
            "|Software Test Eng...|     32218.6083984375|    27122.462890625|    5096.1455078125|\n",
            "|Safety Technician...|                  0.0|    29421.529296875|   -29421.529296875|\n",
            "|    Junior Executive|   15752.220052083334| 49510.330729166664| -33758.11067708333|\n",
            "|Systems Administr...|          77059.21875|                0.0|        77059.21875|\n",
            "|Human Resources A...|      24022.662109375|  16609.27783203125|   7413.38427734375|\n",
            "|        VP Marketing|    7981.178385416667| 52844.534830729164|  -44863.3564453125|\n",
            "|  Environmental Tech|   13706.980143229166|       45660.890625|-31953.910481770836|\n",
            "|Mechanical System...|   31370.781901041668| 44321.593098958336|-12950.811197916668|\n",
            "| Assistant Professor|      22175.953515625|    26912.770703125| -4736.817187500001|\n",
            "+--------------------+---------------------+-------------------+-------------------+\n",
            "only showing top 20 rows\n",
            "\n"
          ]
        }
      ]
    },
    {
      "cell_type": "code",
      "source": [
        "cityavg = mydata2.groupBy('city').agg(sqlfunc.avg('new_salary').alias(\"City_avg_salary\"))\n",
        "\n",
        "cityavg = cityavg.sort(col('City_avg_salary').desc())"
      ],
      "metadata": {
        "id": "OFpBDY7B7Kup"
      },
      "execution_count": null,
      "outputs": []
    },
    {
      "cell_type": "code",
      "source": [
        "cityavg.show()"
      ],
      "metadata": {
        "colab": {
          "base_uri": "https://localhost:8080/"
        },
        "id": "6w51SEmH7mJA",
        "outputId": "3dc29897-f15e-4967-b85b-7f11f881d3a4"
      },
      "execution_count": null,
      "outputs": [
        {
          "output_type": "stream",
          "name": "stdout",
          "text": [
            "+-----------------+---------------+\n",
            "|             city|City_avg_salary|\n",
            "+-----------------+---------------+\n",
            "|        Mesopotam|    99948.28125|\n",
            "|       Zhongcheng|   99942.921875|\n",
            "|           Caxias|  99786.3984375|\n",
            "|      Karangtawar|  99638.9921875|\n",
            "|        Itabaiana|    99502.15625|\n",
            "|           Pasian|    99421.34375|\n",
            "|           Webuye|   99368.546875|\n",
            "|      Yuktae-dong|   99250.828125|\n",
            "|           Zinder|    99222.84375|\n",
            "|   Timiryazevskiy|     99142.9375|\n",
            "|        Sawahbaru|  99013.7109375|\n",
            "|          Madimba|  98737.8671875|\n",
            "|         Huangshi|    98690.34375|\n",
            "|          Gharyan|     98679.3125|\n",
            "|         Yŏnan-ŭp|   98628.609375|\n",
            "|     Wringinputih|  98603.8203125|\n",
            "|Monte da Boavista|    98586.71875|\n",
            "|          Klukeng|  98439.4921875|\n",
            "|         Murmashi|    98226.15625|\n",
            "|        Fox Creek|        98138.0|\n",
            "+-----------------+---------------+\n",
            "only showing top 20 rows\n",
            "\n"
          ]
        }
      ]
    },
    {
      "cell_type": "markdown",
      "source": [
        "## Multiple Filters"
      ],
      "metadata": {
        "id": "ySpagqsCMyQf"
      }
    },
    {
      "cell_type": "code",
      "source": [
        "mydata.show(10)"
      ],
      "metadata": {
        "colab": {
          "base_uri": "https://localhost:8080/"
        },
        "id": "H0U3O2V8M2rc",
        "outputId": "0185f6ac-27cb-4fba-c9e6-058aa48fa724"
      },
      "execution_count": null,
      "outputs": [
        {
          "output_type": "stream",
          "name": "stdout",
          "text": [
            "+---+----------+----------+------+---------------+--------------------+---------+----------+-----------+\n",
            "| id|first_name| last_name|gender|           City|            JobTitle|   Salary|  Latitude|  Longitude|\n",
            "+---+----------+----------+------+---------------+--------------------+---------+----------+-----------+\n",
            "|  1|   Melinde| Shilburne|Female|      Nowa Ruda| Assistant Professor|$57438.18|50.5774075| 16.4967184|\n",
            "|  2|  Kimberly|Von Welden|Female|         Bulgan|       Programmer II|$62846.60|48.8231572|103.5218199|\n",
            "|  3|    Alvera|  Di Boldi|Female|           null|                null|$57576.52|39.9947462|116.3397725|\n",
            "|  4|   Shannon| O'Griffin|  Male|  Divnomorskoye|Budget/Accounting...|$61489.23|44.5047212| 38.1300171|\n",
            "|  5|  Sherwood|   Macieja|  Male|      Mytishchi|            VP Sales|$63863.09|      null| 37.6489954|\n",
            "|  6|     Maris|      Folk|Female|Kinsealy-Drinan|      Civil Engineer|$30101.16|53.4266145| -6.1644997|\n",
            "|  7|     Masha|    Divers|Female|         Dachun|                null|$25090.87| 24.879416| 118.930111|\n",
            "|  8|   Goddart|     Flear|  Male|      Trélissac|Desktop Support T...|$46116.36|45.1905186|  0.7423124|\n",
            "|  9|      Roth|O'Cannavan|  Male|         Heitan|VP Product Manage...|$73697.10| 32.027934| 106.657113|\n",
            "| 10|      Bran|   Trahear|  Male|       Arbeláez|Mechanical System...|$68098.42|  4.272793| -74.416014|\n",
            "+---+----------+----------+------+---------------+--------------------+---------+----------+-----------+\n",
            "only showing top 10 rows\n",
            "\n"
          ]
        }
      ]
    },
    {
      "cell_type": "code",
      "source": [
        "df_filter = mydata.filter((mydata.first_name.isin('Aldin','Valma'))&(mydata.City.like('%ondon')))"
      ],
      "metadata": {
        "id": "XWvI1Yb_7rEz"
      },
      "execution_count": null,
      "outputs": []
    },
    {
      "cell_type": "code",
      "source": [
        "df_filter.show()"
      ],
      "metadata": {
        "colab": {
          "base_uri": "https://localhost:8080/"
        },
        "id": "FOJ7psWDNZu2",
        "outputId": "d454ebd2-c635-4f1e-efad-dc140cb3f2f3"
      },
      "execution_count": null,
      "outputs": [
        {
          "output_type": "stream",
          "name": "stdout",
          "text": [
            "+---+----------+-------------+------+-----------+--------+---------+-----------+----------+\n",
            "| id|first_name|    last_name|gender|       City|JobTitle|   Salary|   Latitude| Longitude|\n",
            "+---+----------+-------------+------+-----------+--------+---------+-----------+----------+\n",
            "|901|     Aldin|Matuszkiewicz|  Male|East London|Operator|$41468.83|-32.9549324|27.9319131|\n",
            "+---+----------+-------------+------+-----------+--------+---------+-----------+----------+\n",
            "\n"
          ]
        }
      ]
    },
    {
      "cell_type": "code",
      "source": [
        "df_filter = mydata.filter((mydata.id>10)&(mydata.id<100))"
      ],
      "metadata": {
        "id": "CT-NG6sFNhuq"
      },
      "execution_count": null,
      "outputs": []
    },
    {
      "cell_type": "code",
      "source": [
        "df_filter.show()"
      ],
      "metadata": {
        "colab": {
          "base_uri": "https://localhost:8080/"
        },
        "id": "aSMPOLEFO7mD",
        "outputId": "60410045-fda1-48ad-b781-e989cd186b6e"
      },
      "execution_count": null,
      "outputs": [
        {
          "output_type": "stream",
          "name": "stdout",
          "text": [
            "+---+----------+---------+------+--------------+--------------------+---------+----------+-----------+\n",
            "| id|first_name|last_name|gender|          City|            JobTitle|   Salary|  Latitude|  Longitude|\n",
            "+---+----------+---------+------+--------------+--------------------+---------+----------+-----------+\n",
            "| 11|    Kylynn|  Lockart|Female|      El Cardo|Nuclear Power Eng...|$13604.63|     -5.85|-79.8833329|\n",
            "| 12|       Rey|   Meharg|Female|   Wangqingtuo|Systems Administr...|$73423.70| 39.172378| 116.931607|\n",
            "| 13|      Kerr|   Braden|  Male|     Sułkowice|Compensation Analyst|$33432.99|49.8151822| 19.3771749|\n",
            "| 14|    Mickie|Whanstall|  Male|   Springfield|Assistant Media P...|$50838.53|42.1014803|-72.5766759|\n",
            "| 15|    Kaspar|    Pally|  Male|        Chrást|  Analyst Programmer|$40163.03|49.7923299| 13.4915324|\n",
            "| 16|    Norbie|   Gwyllt|  Male|        Xijiao|              Editor|$32492.73|43.4945737|  5.8978018|\n",
            "| 17|    Claude|   Briant|Female|     Mieścisko|Research Assistan...|$51862.48|52.7441662| 17.3278637|\n",
            "| 18|     Thain|   Habbon|  Male|Foros do Trapo|     Design Engineer|$42135.67| 38.696249| -8.7098337|\n",
            "| 19|  Tiffanie| Pattison|Female|   Jabungsisir|Senior Financial ...|$91925.08|-7.7232567|113.4686802|\n",
            "| 20|    Ettore| Gerriets|  Male|         Pedra| Staff Accountant IV|$73921.33|40.7172049| -8.3625148|\n",
            "| 21|      Alon| Chasteau|  Male|         Xin’e|     Web Developer I|$62755.85|  49.16291|  127.98658|\n",
            "| 22|   Guthrey|   Johnke|  Male|        Xijiao|         Developer I|$13708.03|40.7576842| 23.1342184|\n",
            "| 23|   Lurleen|  Janczak|Female|     Rozkishne|    Web Developer IV|$29384.72|48.4902808| 39.2712224|\n",
            "| 24|    Nichol|   Holtum|Female|         Město|           Paralegal|$27797.98|49.9718258| 12.8846277|\n",
            "| 25|     Shaun|   Bridle|Female|         Xitou| Office Assistant IV|$71279.60| 29.866917| 118.403786|\n",
            "| 26|   Leandra|   Anfrey|Female|       Isfahan|VP Product Manage...|$30201.32|32.6546275| 51.6679826|\n",
            "| 27|    Jarvis|   Perone|  Male|     Hägersten| Associate Professor|$55313.18|59.2832062| 17.9570059|\n",
            "| 28|  Jaquelyn|   Hazard|Female|         Dhaka|      Tax Accountant|$68368.55| 23.810332| 90.4125181|\n",
            "| 29|  Prudence| Honacker|Female|   Suphan Buri|       VP Accounting|$64920.07|14.5466721|100.0795741|\n",
            "| 30|    Cherey|    Liger|Female|         Itami|     Design Engineer|$94566.69|34.7791206|135.4203895|\n",
            "+---+----------+---------+------+--------------+--------------------+---------+----------+-----------+\n",
            "only showing top 20 rows\n",
            "\n"
          ]
        }
      ]
    },
    {
      "cell_type": "markdown",
      "source": [
        "## Value Counts"
      ],
      "metadata": {
        "id": "e1vcpLnEPWLD"
      }
    },
    {
      "cell_type": "code",
      "source": [
        "mydata.groupBy('gender').count().show()"
      ],
      "metadata": {
        "colab": {
          "base_uri": "https://localhost:8080/"
        },
        "id": "ovwNgZQ8O8q8",
        "outputId": "28677b01-7fe2-4ce6-ea03-629af56c7377"
      },
      "execution_count": null,
      "outputs": [
        {
          "output_type": "stream",
          "name": "stdout",
          "text": [
            "+------+-----+\n",
            "|gender|count|\n",
            "+------+-----+\n",
            "|Female|  492|\n",
            "|  Male|  508|\n",
            "+------+-----+\n",
            "\n"
          ]
        }
      ]
    },
    {
      "cell_type": "markdown",
      "source": [
        "## Read df from sql "
      ],
      "metadata": {
        "id": "bT3D0gc7X18H"
      }
    },
    {
      "cell_type": "code",
      "source": [
        "mydata.registerTempTable(\"original\")\n"
      ],
      "metadata": {
        "colab": {
          "base_uri": "https://localhost:8080/"
        },
        "id": "W_pyzXSxPDO-",
        "outputId": "ac274b69-24af-47d7-9d2a-f8910e820388"
      },
      "execution_count": null,
      "outputs": [
        {
          "output_type": "stream",
          "name": "stderr",
          "text": [
            "/usr/local/lib/python3.9/dist-packages/pyspark/sql/dataframe.py:229: FutureWarning: Deprecated in 2.0, use createOrReplaceTempView instead.\n",
            "  warnings.warn(\"Deprecated in 2.0, use createOrReplaceTempView instead.\", FutureWarning)\n"
          ]
        }
      ]
    },
    {
      "cell_type": "code",
      "source": [
        "query1 = spark.sql(\"select * from original\")"
      ],
      "metadata": {
        "id": "fXqstwggbGfy"
      },
      "execution_count": null,
      "outputs": []
    },
    {
      "cell_type": "code",
      "source": [
        "query1.show()"
      ],
      "metadata": {
        "colab": {
          "base_uri": "https://localhost:8080/"
        },
        "id": "Wu45mDOcbKx0",
        "outputId": "1e7e183f-66c6-46a3-dec6-483e3d8fd613"
      },
      "execution_count": null,
      "outputs": [
        {
          "output_type": "stream",
          "name": "stdout",
          "text": [
            "+---+----------+----------+------+---------------+--------------------+---------+----------+-----------+\n",
            "| id|first_name| last_name|gender|           City|            JobTitle|   Salary|  Latitude|  Longitude|\n",
            "+---+----------+----------+------+---------------+--------------------+---------+----------+-----------+\n",
            "|  1|   Melinde| Shilburne|Female|      Nowa Ruda| Assistant Professor|$57438.18|50.5774075| 16.4967184|\n",
            "|  2|  Kimberly|Von Welden|Female|         Bulgan|       Programmer II|$62846.60|48.8231572|103.5218199|\n",
            "|  3|    Alvera|  Di Boldi|Female|           null|                null|$57576.52|39.9947462|116.3397725|\n",
            "|  4|   Shannon| O'Griffin|  Male|  Divnomorskoye|Budget/Accounting...|$61489.23|44.5047212| 38.1300171|\n",
            "|  5|  Sherwood|   Macieja|  Male|      Mytishchi|            VP Sales|$63863.09|      null| 37.6489954|\n",
            "|  6|     Maris|      Folk|Female|Kinsealy-Drinan|      Civil Engineer|$30101.16|53.4266145| -6.1644997|\n",
            "|  7|     Masha|    Divers|Female|         Dachun|                null|$25090.87| 24.879416| 118.930111|\n",
            "|  8|   Goddart|     Flear|  Male|      Trélissac|Desktop Support T...|$46116.36|45.1905186|  0.7423124|\n",
            "|  9|      Roth|O'Cannavan|  Male|         Heitan|VP Product Manage...|$73697.10| 32.027934| 106.657113|\n",
            "| 10|      Bran|   Trahear|  Male|       Arbeláez|Mechanical System...|$68098.42|  4.272793| -74.416014|\n",
            "| 11|    Kylynn|   Lockart|Female|       El Cardo|Nuclear Power Eng...|$13604.63|     -5.85|-79.8833329|\n",
            "| 12|       Rey|    Meharg|Female|    Wangqingtuo|Systems Administr...|$73423.70| 39.172378| 116.931607|\n",
            "| 13|      Kerr|    Braden|  Male|      Sułkowice|Compensation Analyst|$33432.99|49.8151822| 19.3771749|\n",
            "| 14|    Mickie| Whanstall|  Male|    Springfield|Assistant Media P...|$50838.53|42.1014803|-72.5766759|\n",
            "| 15|    Kaspar|     Pally|  Male|         Chrást|  Analyst Programmer|$40163.03|49.7923299| 13.4915324|\n",
            "| 16|    Norbie|    Gwyllt|  Male|         Xijiao|              Editor|$32492.73|43.4945737|  5.8978018|\n",
            "| 17|    Claude|    Briant|Female|      Mieścisko|Research Assistan...|$51862.48|52.7441662| 17.3278637|\n",
            "| 18|     Thain|    Habbon|  Male| Foros do Trapo|     Design Engineer|$42135.67| 38.696249| -8.7098337|\n",
            "| 19|  Tiffanie|  Pattison|Female|    Jabungsisir|Senior Financial ...|$91925.08|-7.7232567|113.4686802|\n",
            "| 20|    Ettore|  Gerriets|  Male|          Pedra| Staff Accountant IV|$73921.33|40.7172049| -8.3625148|\n",
            "+---+----------+----------+------+---------------+--------------------+---------+----------+-----------+\n",
            "only showing top 20 rows\n",
            "\n"
          ]
        }
      ]
    },
    {
      "cell_type": "code",
      "source": [
        "query2 = spark.sql('select concat(first_name,\" \",last_name) as full_name from original where gender = \"Female\"')"
      ],
      "metadata": {
        "id": "CeZoyTYjbL97"
      },
      "execution_count": null,
      "outputs": []
    },
    {
      "cell_type": "code",
      "source": [
        "query2.show()"
      ],
      "metadata": {
        "colab": {
          "base_uri": "https://localhost:8080/"
        },
        "id": "WACUYwwwb72F",
        "outputId": "0a886374-c9e6-4c13-98fc-8b6cdbf5ba73"
      },
      "execution_count": null,
      "outputs": [
        {
          "output_type": "stream",
          "name": "stdout",
          "text": [
            "+-------------------+\n",
            "|          full_name|\n",
            "+-------------------+\n",
            "|  Melinde Shilburne|\n",
            "|Kimberly Von Welden|\n",
            "|    Alvera Di Boldi|\n",
            "|         Maris Folk|\n",
            "|       Masha Divers|\n",
            "|     Kylynn Lockart|\n",
            "|         Rey Meharg|\n",
            "|      Claude Briant|\n",
            "|  Tiffanie Pattison|\n",
            "|    Lurleen Janczak|\n",
            "|      Nichol Holtum|\n",
            "|       Shaun Bridle|\n",
            "|     Leandra Anfrey|\n",
            "|    Jaquelyn Hazard|\n",
            "|  Prudence Honacker|\n",
            "|       Cherey Liger|\n",
            "|          Neda Krop|\n",
            "|    Barbi Fattorini|\n",
            "|   Lonnie Townshend|\n",
            "|    Valida Salzberg|\n",
            "+-------------------+\n",
            "only showing top 20 rows\n",
            "\n"
          ]
        }
      ]
    },
    {
      "cell_type": "markdown",
      "source": [
        "## Calculated Columns"
      ],
      "metadata": {
        "id": "c9rQZia2d0jN"
      }
    },
    {
      "cell_type": "code",
      "source": [
        "mydata = mydata.withColumn('clean_salary',mydata.Salary.substr(2,100).cast('float'))"
      ],
      "metadata": {
        "id": "sXDMRQXSb8oR"
      },
      "execution_count": null,
      "outputs": []
    },
    {
      "cell_type": "code",
      "source": [
        "mydata.show(2)"
      ],
      "metadata": {
        "colab": {
          "base_uri": "https://localhost:8080/"
        },
        "id": "rRPHnboOeHNn",
        "outputId": "2a4d575e-d641-4be8-ff86-767145fb4bfd"
      },
      "execution_count": null,
      "outputs": [
        {
          "output_type": "stream",
          "name": "stdout",
          "text": [
            "+---+----------+----------+------+---------+-------------------+---------+----------+-----------+------------+\n",
            "| id|first_name| last_name|gender|     City|           JobTitle|   Salary|  Latitude|  Longitude|clean_salary|\n",
            "+---+----------+----------+------+---------+-------------------+---------+----------+-----------+------------+\n",
            "|  1|   Melinde| Shilburne|Female|Nowa Ruda|Assistant Professor|$57438.18|50.5774075| 16.4967184|    57438.18|\n",
            "|  2|  Kimberly|Von Welden|Female|   Bulgan|      Programmer II|$62846.60|48.8231572|103.5218199|     62846.6|\n",
            "+---+----------+----------+------+---------+-------------------+---------+----------+-----------+------------+\n",
            "only showing top 2 rows\n",
            "\n"
          ]
        }
      ]
    },
    {
      "cell_type": "code",
      "source": [
        "mydata = mydata.withColumn('monthly_salary',mydata.clean_salary/12)"
      ],
      "metadata": {
        "id": "BUMSwRRAeIQr"
      },
      "execution_count": null,
      "outputs": []
    },
    {
      "cell_type": "code",
      "source": [
        "mydata.show(10)"
      ],
      "metadata": {
        "colab": {
          "base_uri": "https://localhost:8080/"
        },
        "id": "7e200Fb4eVSE",
        "outputId": "8290876b-211c-4041-ec69-ef419b8587b0"
      },
      "execution_count": null,
      "outputs": [
        {
          "output_type": "stream",
          "name": "stdout",
          "text": [
            "+---+----------+----------+------+---------------+--------------------+---------+----------+-----------+------------+------------------+\n",
            "| id|first_name| last_name|gender|           City|            JobTitle|   Salary|  Latitude|  Longitude|clean_salary|    monthly_salary|\n",
            "+---+----------+----------+------+---------------+--------------------+---------+----------+-----------+------------+------------------+\n",
            "|  1|   Melinde| Shilburne|Female|      Nowa Ruda| Assistant Professor|$57438.18|50.5774075| 16.4967184|    57438.18| 4786.514973958333|\n",
            "|  2|  Kimberly|Von Welden|Female|         Bulgan|       Programmer II|$62846.60|48.8231572|103.5218199|     62846.6|    5237.216796875|\n",
            "|  3|    Alvera|  Di Boldi|Female|           null|                null|$57576.52|39.9947462|116.3397725|    57576.52| 4798.043294270833|\n",
            "|  4|   Shannon| O'Griffin|  Male|  Divnomorskoye|Budget/Accounting...|$61489.23|44.5047212| 38.1300171|    61489.23|   5124.1025390625|\n",
            "|  5|  Sherwood|   Macieja|  Male|      Mytishchi|            VP Sales|$63863.09|      null| 37.6489954|    63863.09| 5321.924153645833|\n",
            "|  6|     Maris|      Folk|Female|Kinsealy-Drinan|      Civil Engineer|$30101.16|53.4266145| -6.1644997|    30101.16|2508.4300130208335|\n",
            "|  7|     Masha|    Divers|Female|         Dachun|                null|$25090.87| 24.879416| 118.930111|    25090.87|  2090.90576171875|\n",
            "|  8|   Goddart|     Flear|  Male|      Trélissac|Desktop Support T...|$46116.36|45.1905186|  0.7423124|    46116.36|3843.0299479166665|\n",
            "|  9|      Roth|O'Cannavan|  Male|         Heitan|VP Product Manage...|$73697.10| 32.027934| 106.657113|     73697.1| 6141.425130208333|\n",
            "| 10|      Bran|   Trahear|  Male|       Arbeláez|Mechanical System...|$68098.42|  4.272793| -74.416014|    68098.42| 5674.868489583333|\n",
            "+---+----------+----------+------+---------------+--------------------+---------+----------+-----------+------------+------------------+\n",
            "only showing top 10 rows\n",
            "\n"
          ]
        }
      ]
    },
    {
      "cell_type": "code",
      "source": [
        "mydata = mydata.withColumn('are_they_female',when(mydata.gender=='Female','yes').otherwise('no'))"
      ],
      "metadata": {
        "id": "Jjas2giqeW0E"
      },
      "execution_count": null,
      "outputs": []
    },
    {
      "cell_type": "code",
      "source": [
        "mydata.show()"
      ],
      "metadata": {
        "colab": {
          "base_uri": "https://localhost:8080/"
        },
        "id": "lR7z3cf5fuiT",
        "outputId": "e2921482-b4e5-4382-8889-c6938eabe309"
      },
      "execution_count": null,
      "outputs": [
        {
          "output_type": "stream",
          "name": "stdout",
          "text": [
            "+---+----------+----------+------+---------------+--------------------+---------+----------+-----------+------------+------------------+---------------+\n",
            "| id|first_name| last_name|gender|           City|            JobTitle|   Salary|  Latitude|  Longitude|clean_salary|    monthly_salary|are_they_female|\n",
            "+---+----------+----------+------+---------------+--------------------+---------+----------+-----------+------------+------------------+---------------+\n",
            "|  1|   Melinde| Shilburne|Female|      Nowa Ruda| Assistant Professor|$57438.18|50.5774075| 16.4967184|    57438.18| 4786.514973958333|            yes|\n",
            "|  2|  Kimberly|Von Welden|Female|         Bulgan|       Programmer II|$62846.60|48.8231572|103.5218199|     62846.6|    5237.216796875|            yes|\n",
            "|  3|    Alvera|  Di Boldi|Female|           null|                null|$57576.52|39.9947462|116.3397725|    57576.52| 4798.043294270833|            yes|\n",
            "|  4|   Shannon| O'Griffin|  Male|  Divnomorskoye|Budget/Accounting...|$61489.23|44.5047212| 38.1300171|    61489.23|   5124.1025390625|             no|\n",
            "|  5|  Sherwood|   Macieja|  Male|      Mytishchi|            VP Sales|$63863.09|      null| 37.6489954|    63863.09| 5321.924153645833|             no|\n",
            "|  6|     Maris|      Folk|Female|Kinsealy-Drinan|      Civil Engineer|$30101.16|53.4266145| -6.1644997|    30101.16|2508.4300130208335|            yes|\n",
            "|  7|     Masha|    Divers|Female|         Dachun|                null|$25090.87| 24.879416| 118.930111|    25090.87|  2090.90576171875|            yes|\n",
            "|  8|   Goddart|     Flear|  Male|      Trélissac|Desktop Support T...|$46116.36|45.1905186|  0.7423124|    46116.36|3843.0299479166665|             no|\n",
            "|  9|      Roth|O'Cannavan|  Male|         Heitan|VP Product Manage...|$73697.10| 32.027934| 106.657113|     73697.1| 6141.425130208333|             no|\n",
            "| 10|      Bran|   Trahear|  Male|       Arbeláez|Mechanical System...|$68098.42|  4.272793| -74.416014|    68098.42| 5674.868489583333|             no|\n",
            "| 11|    Kylynn|   Lockart|Female|       El Cardo|Nuclear Power Eng...|$13604.63|     -5.85|-79.8833329|    13604.63|1133.7191569010417|            yes|\n",
            "| 12|       Rey|    Meharg|Female|    Wangqingtuo|Systems Administr...|$73423.70| 39.172378| 116.931607|     73423.7| 6118.641927083333|            yes|\n",
            "| 13|      Kerr|    Braden|  Male|      Sułkowice|Compensation Analyst|$33432.99|49.8151822| 19.3771749|    33432.99|2786.0823567708335|             no|\n",
            "| 14|    Mickie| Whanstall|  Male|    Springfield|Assistant Media P...|$50838.53|42.1014803|-72.5766759|    50838.53| 4236.544270833333|             no|\n",
            "| 15|    Kaspar|     Pally|  Male|         Chrást|  Analyst Programmer|$40163.03|49.7923299| 13.4915324|    40163.03|3346.9192708333335|             no|\n",
            "| 16|    Norbie|    Gwyllt|  Male|         Xijiao|              Editor|$32492.73|43.4945737|  5.8978018|    32492.73|   2707.7275390625|             no|\n",
            "| 17|    Claude|    Briant|Female|      Mieścisko|Research Assistan...|$51862.48|52.7441662| 17.3278637|    51862.48| 4321.873372395833|            yes|\n",
            "| 18|     Thain|    Habbon|  Male| Foros do Trapo|     Design Engineer|$42135.67| 38.696249| -8.7098337|    42135.67|3511.3059895833335|             no|\n",
            "| 19|  Tiffanie|  Pattison|Female|    Jabungsisir|Senior Financial ...|$91925.08|-7.7232567|113.4686802|    91925.08| 7660.423177083333|            yes|\n",
            "| 20|    Ettore|  Gerriets|  Male|          Pedra| Staff Accountant IV|$73921.33|40.7172049| -8.3625148|    73921.33| 6160.110677083333|             no|\n",
            "+---+----------+----------+------+---------------+--------------------+---------+----------+-----------+------------+------------------+---------------+\n",
            "only showing top 20 rows\n",
            "\n"
          ]
        }
      ]
    },
    {
      "cell_type": "markdown",
      "source": [
        "## Data Aggregation"
      ],
      "metadata": {
        "id": "RMxe7QUfgDW0"
      }
    },
    {
      "cell_type": "code",
      "source": [
        "df1 = mydata.groupBy('gender').count()\n",
        "df1.show()"
      ],
      "metadata": {
        "colab": {
          "base_uri": "https://localhost:8080/"
        },
        "id": "aT3WX8gkgGX1",
        "outputId": "b07e030b-9418-464d-b0b5-c88319078c70"
      },
      "execution_count": null,
      "outputs": [
        {
          "output_type": "stream",
          "name": "stdout",
          "text": [
            "+------+-----+\n",
            "|gender|count|\n",
            "+------+-----+\n",
            "|Female|  492|\n",
            "|  Male|  508|\n",
            "+------+-----+\n",
            "\n"
          ]
        }
      ]
    },
    {
      "cell_type": "code",
      "source": [
        "df1 = mydata.groupBy('gender').agg(sqlfunc.sum('clean_salary'))\n",
        "df1.show()"
      ],
      "metadata": {
        "colab": {
          "base_uri": "https://localhost:8080/"
        },
        "id": "J8j4ZJ9mghPO",
        "outputId": "65c1acd8-8bf2-4189-d9e5-dc3da9d93468"
      },
      "execution_count": null,
      "outputs": [
        {
          "output_type": "stream",
          "name": "stdout",
          "text": [
            "+------+--------------------+\n",
            "|gender|   sum(clean_salary)|\n",
            "+------+--------------------+\n",
            "|Female|2.7364519950195312E7|\n",
            "|  Male|2.8123435678710938E7|\n",
            "+------+--------------------+\n",
            "\n"
          ]
        }
      ]
    },
    {
      "cell_type": "code",
      "source": [
        "df2 = mydata.groupBy('gender').agg(\n",
        "    sqlfunc.sum('clean_salary').alias('total'),\n",
        "    sqlfunc.avg('clean_salary').alias('Average'),\n",
        "    sqlfunc.min('clean_salary').alias('min'),\n",
        "    sqlfunc.max('clean_salary').alias('max'),\n",
        ")\n",
        "\n",
        "df2.show()"
      ],
      "metadata": {
        "colab": {
          "base_uri": "https://localhost:8080/"
        },
        "id": "YZ1M_0Bjgw5W",
        "outputId": "fffb5eb6-ec63-41f3-bce0-5c73e6eccc75"
      },
      "execution_count": null,
      "outputs": [
        {
          "output_type": "stream",
          "name": "stdout",
          "text": [
            "+------+--------------------+-----------------+--------+--------+\n",
            "|gender|               total|          Average|     min|     max|\n",
            "+------+--------------------+-----------------+--------+--------+\n",
            "|Female|2.7364519950195312E7|55618.94298820185|10616.44|99948.28|\n",
            "|  Male|2.8123435678710938E7|55361.09385573019|10101.92|99942.92|\n",
            "+------+--------------------+-----------------+--------+--------+\n",
            "\n"
          ]
        }
      ]
    },
    {
      "cell_type": "code",
      "source": [
        "df2 = mydata.groupBy('gender','city').agg(\n",
        "    sqlfunc.sum('clean_salary').alias('total'),\n",
        "    sqlfunc.avg('clean_salary').alias('Average'),\n",
        "    sqlfunc.min('clean_salary').alias('min'),\n",
        "    sqlfunc.max('clean_salary').alias('max'),\n",
        ")\n",
        "\n",
        "df2.show()"
      ],
      "metadata": {
        "colab": {
          "base_uri": "https://localhost:8080/"
        },
        "id": "LTfBg0NOhNZ0",
        "outputId": "4f6920ee-1718-466a-d324-db955442d89b"
      },
      "execution_count": null,
      "outputs": [
        {
          "output_type": "stream",
          "name": "stdout",
          "text": [
            "+------+-----------------+----------------+----------------+--------+--------+\n",
            "|gender|             city|           total|         Average|     min|     max|\n",
            "+------+-----------------+----------------+----------------+--------+--------+\n",
            "|Female|           Dachun| 25090.869140625| 25090.869140625|25090.87|25090.87|\n",
            "|Female|      Trollhättan|106623.369140625|53311.6845703125|26830.47| 79792.9|\n",
            "|  Male|          Wenshao| 18941.509765625| 18941.509765625|18941.51|18941.51|\n",
            "|Female|            Lanas| 13765.900390625| 13765.900390625| 13765.9| 13765.9|\n",
            "|  Male|            Mörön|    77940.078125|    77940.078125|77940.08|77940.08|\n",
            "|Female|             Same|   73369.7265625|   73369.7265625|73369.73|73369.73|\n",
            "|Female|          Sawahan|  24608.83984375|  24608.83984375|24608.84|24608.84|\n",
            "|  Male|Monte da Boavista|     98586.71875|     98586.71875|98586.72|98586.72|\n",
            "|Female|         Nusajaya|    71637.921875|    71637.921875|71637.92|71637.92|\n",
            "|Female|            Kista|   96192.3984375|   96192.3984375| 96192.4| 96192.4|\n",
            "|  Male|       Pittsburgh|    83121.890625|    83121.890625|83121.89|83121.89|\n",
            "|  Male|       Neftegorsk|     97531.46875|     97531.46875|97531.47|97531.47|\n",
            "|Female|          Yanaoca|     54906.21875|     54906.21875|54906.22|54906.22|\n",
            "|  Male|            Tambo|  40264.91015625|  40264.91015625|40264.91|40264.91|\n",
            "|  Male|        Mytishchi|  63863.08984375|  63863.08984375|63863.09|63863.09|\n",
            "|  Male|            Pedra|    73921.328125|    73921.328125|73921.33|73921.33|\n",
            "|Female|            Dhaka|    68368.546875|    68368.546875|68368.55|68368.55|\n",
            "|  Male|        Mosteiros|  62508.87109375|  62508.87109375|62508.87|62508.87|\n",
            "|  Male|           Roanne|   93339.9921875|   93339.9921875|93339.99|93339.99|\n",
            "|Female|        Eindhoven| 24042.099609375| 24042.099609375| 24042.1| 24042.1|\n",
            "+------+-----------------+----------------+----------------+--------+--------+\n",
            "only showing top 20 rows\n",
            "\n"
          ]
        }
      ]
    },
    {
      "cell_type": "markdown",
      "source": [
        "## Writing DataFrame to Files"
      ],
      "metadata": {
        "id": "xADYTC7HhpoN"
      }
    },
    {
      "cell_type": "code",
      "source": [
        "df2.write.csv('df2.csv')\n",
        "df2.write.json('df2.json')\n",
        "df2.write.parquet('df2.parquet')"
      ],
      "metadata": {
        "id": "3VPsqHknhQ0W"
      },
      "execution_count": null,
      "outputs": []
    },
    {
      "cell_type": "markdown",
      "source": [
        "# Challenge"
      ],
      "metadata": {
        "id": "UNv9Vj2ij7xO"
      }
    },
    {
      "cell_type": "code",
      "source": [
        "! wget https://mldataset0123.s3.amazonaws.com/challenge.csv"
      ],
      "metadata": {
        "colab": {
          "base_uri": "https://localhost:8080/"
        },
        "id": "o0cY_BBSijys",
        "outputId": "a06b0f93-65a4-4418-a2a3-4b56a2044ec5"
      },
      "execution_count": null,
      "outputs": [
        {
          "output_type": "stream",
          "name": "stdout",
          "text": [
            "--2023-03-17 21:53:01--  https://mldataset0123.s3.amazonaws.com/challenge.csv\n",
            "Resolving mldataset0123.s3.amazonaws.com (mldataset0123.s3.amazonaws.com)... 54.231.170.209, 52.216.214.161, 3.5.11.184, ...\n",
            "Connecting to mldataset0123.s3.amazonaws.com (mldataset0123.s3.amazonaws.com)|54.231.170.209|:443... connected.\n",
            "HTTP request sent, awaiting response... 200 OK\n",
            "Length: 38621 (38K) [text/csv]\n",
            "Saving to: ‘challenge.csv’\n",
            "\n",
            "challenge.csv       100%[===================>]  37.72K  --.-KB/s    in 0.09s   \n",
            "\n",
            "2023-03-17 21:53:02 (440 KB/s) - ‘challenge.csv’ saved [38621/38621]\n",
            "\n"
          ]
        }
      ]
    },
    {
      "cell_type": "code",
      "source": [
        "df = spark.read.csv('challenge.csv',header=True)"
      ],
      "metadata": {
        "id": "ErxD2jsPj9cz"
      },
      "execution_count": null,
      "outputs": []
    },
    {
      "cell_type": "code",
      "source": [
        "df.show()"
      ],
      "metadata": {
        "colab": {
          "base_uri": "https://localhost:8080/"
        },
        "id": "NvYCNUu3kMdD",
        "outputId": "f53a8714-96f8-42be-cc7d-d88f4fb6bba1"
      },
      "execution_count": null,
      "outputs": [
        {
          "output_type": "stream",
          "name": "stdout",
          "text": [
            "+---------------+--------------+-----------------+----------+\n",
            "|     ip_address|       Country|      Domain Name|Bytes_used|\n",
            "+---------------+--------------+-----------------+----------+\n",
            "|  52.81.192.172|         China| odnoklassniki.ru|       463|\n",
            "| 119.239.207.13|         China|         youtu.be|        51|\n",
            "|  68.69.217.210|         China|        adobe.com|        10|\n",
            "|   7.191.21.223|      Bulgaria|     linkedin.com|       853|\n",
            "|   211.13.10.68|     Indonesia|          hud.gov|        29|\n",
            "|   239.80.21.97|      Suriname|       smh.com.au|       218|\n",
            "|106.214.106.233|       Jamaica|    amazonaws.com|        95|\n",
            "| 127.242.24.138|         China| surveymonkey.com|       123|\n",
            "|     99.2.6.139|Czech Republic|     geocities.jp|       322|\n",
            "|   237.54.11.63|         China|       amazon.com|        83|\n",
            "| 252.141.157.25|         Japan|      cornell.edu|       374|\n",
            "|185.220.128.248|       Belgium|       weebly.com|       389|\n",
            "|   151.77.19.45|   Afghanistan|independent.co.uk|       282|\n",
            "|  9.161.158.225|     Indonesia|    bloglines.com|       726|\n",
            "| 156.144.61.155|Czech Republic|   slideshare.net|       657|\n",
            "|   8.96.188.151|     Indonesia|          ibm.com|       517|\n",
            "|      5.72.7.65|        Mexico|         youtu.be|       877|\n",
            "|227.110.112.144|       Croatia|         ehow.com|       287|\n",
            "|    81.71.28.97|      Thailand|          last.fm|       588|\n",
            "|  9.255.129.184|      Thailand|          mtv.com|       114|\n",
            "+---------------+--------------+-----------------+----------+\n",
            "only showing top 20 rows\n",
            "\n"
          ]
        }
      ]
    },
    {
      "cell_type": "code",
      "source": [
        "df = df.withColumn('mexico',when(df.Country=='Mexico','YES').otherwise('NO') )"
      ],
      "metadata": {
        "id": "3GbRlFYBkNPT"
      },
      "execution_count": null,
      "outputs": []
    },
    {
      "cell_type": "code",
      "source": [
        "df.show()"
      ],
      "metadata": {
        "colab": {
          "base_uri": "https://localhost:8080/"
        },
        "id": "gDX13wfpkb-a",
        "outputId": "21483a76-a04a-469d-cb86-731c5ef768e5"
      },
      "execution_count": null,
      "outputs": [
        {
          "output_type": "stream",
          "name": "stdout",
          "text": [
            "+---------------+--------------+-----------------+----------+------+\n",
            "|     ip_address|       Country|      Domain Name|Bytes_used|mexico|\n",
            "+---------------+--------------+-----------------+----------+------+\n",
            "|  52.81.192.172|         China| odnoklassniki.ru|       463|    NO|\n",
            "| 119.239.207.13|         China|         youtu.be|        51|    NO|\n",
            "|  68.69.217.210|         China|        adobe.com|        10|    NO|\n",
            "|   7.191.21.223|      Bulgaria|     linkedin.com|       853|    NO|\n",
            "|   211.13.10.68|     Indonesia|          hud.gov|        29|    NO|\n",
            "|   239.80.21.97|      Suriname|       smh.com.au|       218|    NO|\n",
            "|106.214.106.233|       Jamaica|    amazonaws.com|        95|    NO|\n",
            "| 127.242.24.138|         China| surveymonkey.com|       123|    NO|\n",
            "|     99.2.6.139|Czech Republic|     geocities.jp|       322|    NO|\n",
            "|   237.54.11.63|         China|       amazon.com|        83|    NO|\n",
            "| 252.141.157.25|         Japan|      cornell.edu|       374|    NO|\n",
            "|185.220.128.248|       Belgium|       weebly.com|       389|    NO|\n",
            "|   151.77.19.45|   Afghanistan|independent.co.uk|       282|    NO|\n",
            "|  9.161.158.225|     Indonesia|    bloglines.com|       726|    NO|\n",
            "| 156.144.61.155|Czech Republic|   slideshare.net|       657|    NO|\n",
            "|   8.96.188.151|     Indonesia|          ibm.com|       517|    NO|\n",
            "|      5.72.7.65|        Mexico|         youtu.be|       877|   YES|\n",
            "|227.110.112.144|       Croatia|         ehow.com|       287|    NO|\n",
            "|    81.71.28.97|      Thailand|          last.fm|       588|    NO|\n",
            "|  9.255.129.184|      Thailand|          mtv.com|       114|    NO|\n",
            "+---------------+--------------+-----------------+----------+------+\n",
            "only showing top 20 rows\n",
            "\n"
          ]
        }
      ]
    },
    {
      "cell_type": "code",
      "source": [
        "df2 = df.groupBy('mexico').agg(\n",
        "    sqlfunc.sum('Bytes_used').alias('Bytes_used')\n",
        ")\n",
        "\n",
        "df2.show()\n"
      ],
      "metadata": {
        "colab": {
          "base_uri": "https://localhost:8080/"
        },
        "id": "X5eWGuTikuz1",
        "outputId": "3cd63a17-7a2e-4c49-f3e4-195ff5368723"
      },
      "execution_count": null,
      "outputs": [
        {
          "output_type": "stream",
          "name": "stdout",
          "text": [
            "+------+----------+\n",
            "|mexico|Bytes_used|\n",
            "+------+----------+\n",
            "|   YES|    6293.0|\n",
            "|    NO|  508076.0|\n",
            "+------+----------+\n",
            "\n"
          ]
        }
      ]
    },
    {
      "cell_type": "code",
      "source": [
        "df3 = df.groupBy('Country').agg(\n",
        "    sqlfunc.countDistinct('ip_address').alias('ip_address')\n",
        ")\n",
        "\n",
        "df3.sort(col('ip_address').desc()).show()\n"
      ],
      "metadata": {
        "colab": {
          "base_uri": "https://localhost:8080/"
        },
        "id": "_-881o_klbeD",
        "outputId": "abbc5a12-0acf-4a5e-f04c-d8b5235d068d"
      },
      "execution_count": null,
      "outputs": [
        {
          "output_type": "stream",
          "name": "stdout",
          "text": [
            "+--------------+----------+\n",
            "|       Country|ip_address|\n",
            "+--------------+----------+\n",
            "|         China|       172|\n",
            "|     Indonesia|       114|\n",
            "|   Philippines|        65|\n",
            "|        Russia|        56|\n",
            "|        Brazil|        35|\n",
            "|        Poland|        31|\n",
            "|        Sweden|        28|\n",
            "|         Japan|        25|\n",
            "|Czech Republic|        23|\n",
            "|      Portugal|        23|\n",
            "|        France|        21|\n",
            "|          Peru|        19|\n",
            "|      Colombia|        17|\n",
            "| United States|        15|\n",
            "|     Argentina|        14|\n",
            "|       Ukraine|        14|\n",
            "|        Mexico|        13|\n",
            "|      Thailand|        12|\n",
            "|       Nigeria|        11|\n",
            "|        Canada|        11|\n",
            "+--------------+----------+\n",
            "only showing top 20 rows\n",
            "\n"
          ]
        }
      ]
    }
  ]
}